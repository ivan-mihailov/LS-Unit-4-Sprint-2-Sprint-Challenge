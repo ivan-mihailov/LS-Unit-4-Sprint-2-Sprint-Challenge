{
 "cells": [
  {
   "cell_type": "markdown",
   "metadata": {},
   "source": [
    "\n",
    "## Autograded Notebook (Canvas & CodeGrade)\n",
    "\n",
    "This notebook will be automatically graded. It is designed to test your answers and award points for the correct answers. Following the instructions for each Task carefully.\n",
    "Instructions\n",
    "\n",
    "- **Download** this notebook as you would any other ipynb file \n",
    "- **Upload** to Google Colab or work locally (if you have that set-up)\n",
    "- **Delete** `raise NotImplementedError()`\n",
    "\n",
    "- **Write** your code in the `# YOUR CODE HERE` space\n",
    "\n",
    "\n",
    "- **Execute** the Test cells that contain assert statements - these help you check your work (others contain hidden tests that will be checked when you submit through Canvas)\n",
    "\n",
    "- **Save** your notebook when you are finished\n",
    "- **Download** as a ipynb file (if working in Colab)\n",
    "- **Upload** your complete notebook to Canvas (there will be additional instructions in Slack and/or Canvas)\n",
    "\n"
   ]
  },
  {
   "cell_type": "markdown",
   "metadata": {},
   "source": [
    "\n",
    "## *Data Science Unit 4 Sprint 2*\n",
    "\n",
    "# Sprint Challenge - Neural Network Foundations\n",
    "\n",
    "Table of Problems\n",
    "\n",
    "1. [Defining Neural Networks](#Q1)\n",
    "2. [Simple Perceptron](#Q2)\n",
    "    - Perceptron\n",
    "    - Multilayer Perceptron (i.e. Neural Network)\n",
    "    - Analyze and Compare\n",
    "4. [Keras MMP](#Q3)\n",
    "\n",
    "\n",
    "____\n",
    "\n",
    "# Before you submit your notebook you must first\n",
    "\n",
    "1) Restart your notebook's Kernel\n",
    "\n",
    "2) Run all cells sequentially, from top to bottom, so that cell numbers are sequential numbers (i.e. 1,2,3,4,5...)\n",
    "- Easiest way to do this is to click on the **Cell** tab at the top of your notebook and select **Run All** from the drop down menu. \n",
    "\n",
    "____"
   ]
  },
  {
   "cell_type": "markdown",
   "metadata": {
    "deletable": false,
    "editable": false,
    "nbgrader": {
     "cell_type": "markdown",
     "checksum": "a2d017ba3200be3890c0b67eda283c48",
     "grade": false,
     "grade_id": "cell-621a8b86bacf295a",
     "locked": true,
     "points": 0,
     "schema_version": 3,
     "solution": false,
     "task": true
    }
   },
   "source": [
    "<a id=\"Q1\"></a>\n",
    "## 1. Defining Neural Networks \n",
    "\n",
    "Write *your own* definitions for the following terms:\n",
    "\n",
    "- **Neuron:**\n",
    "\n",
    "- **Input Layer:** \n",
    "\n",
    "- **Hidden Layer:** \n",
    "\n",
    "- **Output Layer:**\n",
    "\n",
    "- **Activation:** "
   ]
  },
  {
   "cell_type": "markdown",
   "metadata": {
    "deletable": false,
    "nbgrader": {
     "cell_type": "markdown",
     "checksum": "7233c31461609b21a7fc2651afb12632",
     "grade": true,
     "grade_id": "cell-6adae65226f09553",
     "locked": false,
     "points": 0,
     "schema_version": 3,
     "solution": true,
     "task": false
    }
   },
   "source": [
    "YOUR ANSWER HERE\n",
    "- **Neuron:** This is the building block of a neural network. It is a mathematical function that accepts inputs, their weights plus a bias term and then passes them through an activation function (such as sigmoid, ReLu, tanh, etc.) which determines whether the neuron will activate or not. If the neuron activates, it then passes the updated weights and bias to the next layer or to the final output layer to make a prediction. If the neuron does not activate, the data is not passed onto the next layer.\n",
    "- **Input Layer:** This is a collection of input neurons where the train/test data is passed to the neural network for analysis and prediction.\n",
    "- **Hidden Layer:** A collection of neurons that accept the input data, weights, and biases, passes them through the activation function and determines how the weights and biases must be adjusted in order to be passed to additional hidden layer(s) or to the output layer to make a prediction.\n",
    "- **Output Layer:** A collection of neurons that transforms the weights and biases from the last (or only) hidden layer into probabilities and makes a prediction based on those probabilities.\n",
    "- **Activation:** This is the function within each hidden layer and the output layer which transforms the weights and biases coming into the layer and determines the adjustments that need to be made for the model to learn and ultimately make a correct prediction."
   ]
  },
  {
   "cell_type": "markdown",
   "metadata": {
    "deletable": false,
    "editable": false,
    "nbgrader": {
     "cell_type": "markdown",
     "checksum": "10aa095d3db59bfe47f9823cfd62f1ef",
     "grade": false,
     "grade_id": "cell-d64f1de9e9458dc7",
     "locked": true,
     "points": 0,
     "schema_version": 3,
     "solution": false,
     "task": true
    }
   },
   "source": [
    "- `Explain` how Back-propagation works \n",
    "- `Explain` how Gradient Descent works (mention the learning rate)\n",
    "- `Explain` how Back-propagation and Gradient Descent are related   \n",
    "\n",
    "Use your own words, but feel free to reference external materials for this question. "
   ]
  },
  {
   "cell_type": "markdown",
   "metadata": {
    "deletable": false,
    "nbgrader": {
     "cell_type": "markdown",
     "checksum": "ceb3f64a4b1b18346decf75c8f5567d2",
     "grade": true,
     "grade_id": "cell-cef20b23d4e0b056",
     "locked": false,
     "points": 0,
     "schema_version": 3,
     "solution": true,
     "task": false
    }
   },
   "source": [
    "YOUR ANSWER HERE\n",
    "- **Back-propagation:** This is the process of updating the weights/biases of a neural network model in reverse order from the output layer through the prior hidden layers at the end of a training epoch. In the next epoch the weights/biases for neurons that were responsible for higher contribution to the overall loss of the neural network are lowered and the weights/biases for neurons that were responsible for lower contribution to the overall loss of the neural network are increased. This allows for more efficient learning of the model and should lead to lower overall loss and higher prediction accuracy.\n",
    "- **Gradient Descent:** Gradient is a derivative that takes on the form of a vector. A gradient points in the direction of the greatest change. Gradient Descent tries to reach the minimum of the loss function with respect to the parameters (weights/biases) using the derivatives calculated in the back-propagation. The easiest way would be to adjust the parameters by substracting its corresponding derivative multiplied by a learning rate, which regulates how much a model should move in the gradient direction. \n",
    "- **Back-propagation/Gradient Descent Relationship:** Gradient Descent tries to reach the minimum of the loss function for the model with respect to the parameters (weights/biases) using the derivatives calculated in the back-propagation. "
   ]
  },
  {
   "cell_type": "markdown",
   "metadata": {
    "deletable": false,
    "editable": false,
    "nbgrader": {
     "cell_type": "markdown",
     "checksum": "e040f3ddce6eb34b017f0eb685b202e6",
     "grade": false,
     "grade_id": "cell-e013d19857352d79",
     "locked": true,
     "points": 0,
     "schema_version": 3,
     "solution": false,
     "task": true
    }
   },
   "source": [
    "Remember our Simple Perceptron Class from Monday. \n",
    "\n",
    "- Describe the process of making a prediction, i.e. how do you go from inputs to outputs?"
   ]
  },
  {
   "cell_type": "markdown",
   "metadata": {
    "deletable": false,
    "nbgrader": {
     "cell_type": "markdown",
     "checksum": "d746de6391012340f8548821850a621c",
     "grade": true,
     "grade_id": "cell-53c7cc36db9d7983",
     "locked": false,
     "points": 0,
     "schema_version": 3,
     "solution": true,
     "task": false
    }
   },
   "source": [
    "YOUR ANSWER HERE\n",
    "\n",
    "Data/signal is passed from the input layer to the hidden layers and ultimately to the output layer (which makes the prediction):\n",
    "- Each layer takes in inputs from the training data (or previous layer);\n",
    "- Multiplies each input by its corresponding weight;\n",
    "- Adds bias to this weighted sum of inputs and weights;\n",
    "- Sends this weighted sum + bias through an activation function (sigmoid, ReLu, tanh, etc.).\n",
    "- This final activated value is the data/signal that gets passed onto the next layer of the network.\n",
    "- When the signal reaches the output layer, it converts the weights + biases into probabilities and makes a prediction."
   ]
  },
  {
   "cell_type": "markdown",
   "metadata": {},
   "source": [
    "<a id=\"Q2\"></a>\n",
    "## 2. Simple Perceptron\n",
    "\n",
    "In this question, you will build two neural networks using `Keras`. After you build these two models, compare the results of the model."
   ]
  },
  {
   "cell_type": "code",
   "execution_count": 1,
   "metadata": {},
   "outputs": [],
   "source": [
    "\"\"\"\n",
    "Our Dataset\n",
    "\"\"\"\n",
    "import numpy as np\n",
    "\n",
    "\n",
    "rng = np.random.RandomState(0)\n",
    "\n",
    "\"Use this X & y in the following 2 models\"\n",
    "X = rng.randn(300, 2)\n",
    "y = np.array(np.logical_xor(X[:, 0] > 0, X[:, 1] > 0), \n",
    "             dtype=int)"
   ]
  },
  {
   "cell_type": "code",
   "execution_count": 2,
   "metadata": {},
   "outputs": [
    {
     "data": {
      "text/plain": [
       "(300, 2)"
      ]
     },
     "execution_count": 2,
     "metadata": {},
     "output_type": "execute_result"
    }
   ],
   "source": [
    "X.shape"
   ]
  },
  {
   "cell_type": "code",
   "execution_count": 3,
   "metadata": {},
   "outputs": [
    {
     "data": {
      "text/plain": [
       "array([0, 0, 1, 1, 1, 0, 0, 0, 1, 1, 1, 1, 1, 1, 0, 0, 0, 1, 0, 0, 0, 1,\n",
       "       0, 1, 0, 1, 0, 1, 0, 0, 0, 0, 1, 1, 1, 0, 1, 1, 0, 1, 1, 1, 0, 1,\n",
       "       1, 1, 0, 0, 0, 0, 1, 1, 1, 0, 0, 0, 1, 1, 1, 0, 1, 0, 0, 1, 0, 1,\n",
       "       1, 1, 1, 1, 1, 0, 0, 1, 0, 1, 0, 0, 1, 0, 1, 0, 1, 0, 0, 0, 1, 1,\n",
       "       0, 1, 0, 0, 1, 1, 1, 1, 0, 1, 0, 0, 0, 0, 1, 0, 1, 0, 1, 0, 1, 1,\n",
       "       0, 1, 1, 0, 0, 0, 1, 1, 1, 0, 0, 0, 0, 0, 0, 1, 1, 0, 0, 1, 0, 0,\n",
       "       1, 0, 1, 1, 0, 0, 1, 1, 1, 1, 0, 1, 0, 0, 1, 1, 0, 1, 1, 0, 1, 0,\n",
       "       1, 1, 0, 1, 0, 0, 0, 1, 0, 1, 1, 1, 1, 1, 1, 1, 1, 0, 0, 1, 0, 0,\n",
       "       1, 0, 0, 1, 0, 0, 1, 0, 0, 1, 1, 0, 1, 1, 1, 0, 1, 0, 0, 1, 0, 0,\n",
       "       0, 0, 0, 0, 1, 0, 0, 1, 0, 0, 0, 0, 0, 1, 1, 1, 1, 0, 0, 1, 0, 0,\n",
       "       0, 1, 1, 1, 0, 1, 0, 0, 0, 1, 0, 1, 1, 0, 1, 0, 0, 0, 1, 0, 0, 0,\n",
       "       1, 0, 1, 0, 0, 1, 0, 0, 1, 1, 0, 0, 1, 0, 0, 1, 0, 0, 0, 0, 1, 0,\n",
       "       1, 1, 0, 0, 0, 0, 1, 1, 0, 1, 1, 0, 1, 1, 1, 0, 1, 1, 1, 0, 0, 1,\n",
       "       0, 1, 0, 1, 0, 1, 0, 1, 0, 0, 0, 0, 0, 0])"
      ]
     },
     "execution_count": 3,
     "metadata": {},
     "output_type": "execute_result"
    }
   ],
   "source": [
    "y"
   ]
  },
  {
   "cell_type": "code",
   "execution_count": 4,
   "metadata": {},
   "outputs": [
    {
     "data": {
      "text/plain": [
       "4"
      ]
     },
     "execution_count": 4,
     "metadata": {},
     "output_type": "execute_result"
    }
   ],
   "source": [
    "2**2"
   ]
  },
  {
   "cell_type": "code",
   "execution_count": 5,
   "metadata": {},
   "outputs": [
    {
     "data": {
      "text/plain": [
       "256"
      ]
     },
     "execution_count": 5,
     "metadata": {},
     "output_type": "execute_result"
    }
   ],
   "source": [
    "4**4"
   ]
  },
  {
   "cell_type": "code",
   "execution_count": null,
   "metadata": {},
   "outputs": [],
   "source": []
  },
  {
   "cell_type": "code",
   "execution_count": null,
   "metadata": {},
   "outputs": [],
   "source": []
  },
  {
   "cell_type": "markdown",
   "metadata": {},
   "source": [
    "This word is speled wrong. "
   ]
  },
  {
   "cell_type": "markdown",
   "metadata": {},
   "source": [
    "### Simple Perceptron\n",
    "Construct a simple perceptron using Keras. \n",
    "\n",
    "Make sure to include the following in your model:\n",
    "- Add `1 dense layer` with a `single neuron` \n",
    "- Use a `sigmoid activation function`\n",
    "- Set `epochs` to 10 \n",
    "- Use the version of `crossentropy loss` that is appropriate for this data.\n",
    "\n",
    "Your model should be called `model1` and make sure to save the results of your fit statement to a variable called `h1`. \n"
   ]
  },
  {
   "cell_type": "code",
   "execution_count": 6,
   "metadata": {
    "deletable": false,
    "nbgrader": {
     "cell_type": "code",
     "checksum": "67e9f7297eb22a79437494d713d74b71",
     "grade": false,
     "grade_id": "cell-427690628f9c900b",
     "locked": false,
     "schema_version": 3,
     "solution": true,
     "task": false
    }
   },
   "outputs": [
    {
     "name": "stdout",
     "output_type": "stream",
     "text": [
      "Epoch 1/10\n",
      "8/8 [==============================] - 0s 18ms/step - loss: 0.7682 - accuracy: 0.5833 - val_loss: 0.8940 - val_accuracy: 0.4667\n",
      "Epoch 2/10\n",
      "8/8 [==============================] - 0s 4ms/step - loss: 0.7668 - accuracy: 0.5833 - val_loss: 0.8916 - val_accuracy: 0.4667\n",
      "Epoch 3/10\n",
      "8/8 [==============================] - 0s 4ms/step - loss: 0.7655 - accuracy: 0.5833 - val_loss: 0.8894 - val_accuracy: 0.4667\n",
      "Epoch 4/10\n",
      "8/8 [==============================] - 0s 4ms/step - loss: 0.7643 - accuracy: 0.5833 - val_loss: 0.8872 - val_accuracy: 0.4667\n",
      "Epoch 5/10\n",
      "8/8 [==============================] - 0s 4ms/step - loss: 0.7630 - accuracy: 0.5833 - val_loss: 0.8851 - val_accuracy: 0.4667\n",
      "Epoch 6/10\n",
      "8/8 [==============================] - 0s 4ms/step - loss: 0.7618 - accuracy: 0.5833 - val_loss: 0.8829 - val_accuracy: 0.4833\n",
      "Epoch 7/10\n",
      "8/8 [==============================] - 0s 4ms/step - loss: 0.7606 - accuracy: 0.5833 - val_loss: 0.8807 - val_accuracy: 0.5000\n",
      "Epoch 8/10\n",
      "8/8 [==============================] - 0s 4ms/step - loss: 0.7594 - accuracy: 0.5833 - val_loss: 0.8787 - val_accuracy: 0.5000\n",
      "Epoch 9/10\n",
      "8/8 [==============================] - 0s 4ms/step - loss: 0.7582 - accuracy: 0.5833 - val_loss: 0.8769 - val_accuracy: 0.5000\n",
      "Epoch 10/10\n",
      "8/8 [==============================] - 0s 4ms/step - loss: 0.7571 - accuracy: 0.5875 - val_loss: 0.8751 - val_accuracy: 0.5000\n"
     ]
    }
   ],
   "source": [
    "import tensorflow\n",
    "from tensorflow.keras.models import Sequential\n",
    "from tensorflow.keras.layers import Dense\n",
    "\n",
    "# build and fit model\n",
    "\n",
    "# YOUR CODE HERE\n",
    "# Initialize model as a Keras Sequential model\n",
    "model1 =  Sequential()\n",
    "\n",
    "# Add one Dense hidden layer with a single neuron with a \n",
    "# sigmoid activation function\n",
    "model1.add(Dense(1, input_dim = X.shape[1], activation = 'sigmoid'))\n",
    "\n",
    "# Compile model using binary_crossentropy for loss function (2 classes only)\n",
    "model1.compile(loss = 'binary_crossentropy', optimizer = 'adam', metrics = 'accuracy')\n",
    "\n",
    "# Fir model for 10 epochs\n",
    "h1 = model1.fit(X, y, epochs = 10, validation_split = 0.2)"
   ]
  },
  {
   "cell_type": "code",
   "execution_count": 7,
   "metadata": {
    "deletable": false,
    "editable": false,
    "nbgrader": {
     "cell_type": "code",
     "checksum": "36f7f830036d0443ca8e8ba0f17b2a4e",
     "grade": true,
     "grade_id": "cell-bf2ae566afacde8c",
     "locked": true,
     "points": 1,
     "schema_version": 3,
     "solution": false,
     "task": false
    }
   },
   "outputs": [],
   "source": [
    "# Visible test\n",
    "assert len(model1.get_config()[\"layers\"]) == 2, \"Make sure you only create 1 Dense layer.\"\n",
    "assert len(h1.epoch) <=10, \"Did you make sure to set epochs to 10 or less?\""
   ]
  },
  {
   "cell_type": "code",
   "execution_count": 8,
   "metadata": {},
   "outputs": [
    {
     "data": {
      "text/plain": [
       "[{'class_name': 'InputLayer',\n",
       "  'config': {'batch_input_shape': (None, 2),\n",
       "   'dtype': 'float32',\n",
       "   'sparse': False,\n",
       "   'ragged': False,\n",
       "   'name': 'dense_input'}},\n",
       " {'class_name': 'Dense',\n",
       "  'config': {'name': 'dense',\n",
       "   'trainable': True,\n",
       "   'batch_input_shape': (None, 2),\n",
       "   'dtype': 'float32',\n",
       "   'units': 1,\n",
       "   'activation': 'sigmoid',\n",
       "   'use_bias': True,\n",
       "   'kernel_initializer': {'class_name': 'GlorotUniform',\n",
       "    'config': {'seed': None}},\n",
       "   'bias_initializer': {'class_name': 'Zeros', 'config': {}},\n",
       "   'kernel_regularizer': None,\n",
       "   'bias_regularizer': None,\n",
       "   'activity_regularizer': None,\n",
       "   'kernel_constraint': None,\n",
       "   'bias_constraint': None}}]"
      ]
     },
     "execution_count": 8,
     "metadata": {},
     "output_type": "execute_result"
    }
   ],
   "source": [
    "model1.get_config()[\"layers\"]"
   ]
  },
  {
   "cell_type": "code",
   "execution_count": 9,
   "metadata": {
    "deletable": false,
    "editable": false,
    "nbgrader": {
     "cell_type": "code",
     "checksum": "95d3ee2935a0de64f2a5a22460520e69",
     "grade": true,
     "grade_id": "cell-a957e14380b2f508",
     "locked": true,
     "points": 1,
     "schema_version": 3,
     "solution": false,
     "task": false
    }
   },
   "outputs": [],
   "source": [
    "# Hidden tests - you will see the results when you submit to Canvas"
   ]
  },
  {
   "cell_type": "markdown",
   "metadata": {},
   "source": [
    "### Multi-Layer Perceptron\n",
    "Now construct a multi-layer perceptron model (also known as a neural network). \n",
    "\n",
    "Your neural network `must` have: \n",
    "- `2` Hidden Layers\n",
    "- Select any number between `5-32` for the number of neurons in each hidden layers\n",
    "- Your pick of activation function and optimizer\n",
    "- Incorporate the `Callback function` below into your model\n",
    "- Set epochs to `100`\n",
    "- Your model should be called `model2` \n",
    "- Save the results of your fit statement to a variable called `h2`. \n",
    "- Use the version of `crossentropy loss` that is appropriate for this data."
   ]
  },
  {
   "cell_type": "code",
   "execution_count": 10,
   "metadata": {},
   "outputs": [],
   "source": [
    "import tensorflow as tf\n",
    "\n",
    "class myCallback(tf.keras.callbacks.Callback): \n",
    "    def on_epoch_end(self, epoch, logs={}): \n",
    "        # if model reaches 99% accuracy, training is terminated \n",
    "        acc_threshold = 0.99\n",
    "        if(logs.get('accuracy') > acc_threshold):   \n",
    "            self.model.stop_training = True\n",
    "            self.model.callback_used = True"
   ]
  },
  {
   "cell_type": "code",
   "execution_count": 11,
   "metadata": {
    "deletable": false,
    "nbgrader": {
     "cell_type": "code",
     "checksum": "314337f29c8cd7f38224a31687a86b12",
     "grade": false,
     "grade_id": "cell-77523c4c64743f16",
     "locked": false,
     "schema_version": 3,
     "solution": true,
     "task": false
    }
   },
   "outputs": [
    {
     "name": "stdout",
     "output_type": "stream",
     "text": [
      "Epoch 1/100\n",
      "8/8 [==============================] - 0s 6ms/step - loss: 0.7561 - accuracy: 0.5875 - val_loss: 0.8730 - val_accuracy: 0.5000\n",
      "Epoch 2/100\n",
      "8/8 [==============================] - 0s 4ms/step - loss: 0.7547 - accuracy: 0.5875 - val_loss: 0.8712 - val_accuracy: 0.5000\n",
      "Epoch 3/100\n",
      "8/8 [==============================] - 0s 4ms/step - loss: 0.7538 - accuracy: 0.5875 - val_loss: 0.8691 - val_accuracy: 0.5167\n",
      "Epoch 4/100\n",
      "8/8 [==============================] - 0s 4ms/step - loss: 0.7526 - accuracy: 0.5875 - val_loss: 0.8672 - val_accuracy: 0.5167\n",
      "Epoch 5/100\n",
      "8/8 [==============================] - 0s 4ms/step - loss: 0.7515 - accuracy: 0.5875 - val_loss: 0.8654 - val_accuracy: 0.5167\n",
      "Epoch 6/100\n",
      "8/8 [==============================] - 0s 4ms/step - loss: 0.7504 - accuracy: 0.5875 - val_loss: 0.8636 - val_accuracy: 0.5167\n",
      "Epoch 7/100\n",
      "8/8 [==============================] - 0s 4ms/step - loss: 0.7495 - accuracy: 0.5875 - val_loss: 0.8615 - val_accuracy: 0.5167\n",
      "Epoch 8/100\n",
      "8/8 [==============================] - 0s 4ms/step - loss: 0.7481 - accuracy: 0.5875 - val_loss: 0.8598 - val_accuracy: 0.5167\n",
      "Epoch 9/100\n",
      "8/8 [==============================] - 0s 4ms/step - loss: 0.7472 - accuracy: 0.5875 - val_loss: 0.8578 - val_accuracy: 0.5333\n",
      "Epoch 10/100\n",
      "8/8 [==============================] - 0s 4ms/step - loss: 0.7462 - accuracy: 0.5875 - val_loss: 0.8558 - val_accuracy: 0.5333\n",
      "Epoch 11/100\n",
      "8/8 [==============================] - 0s 4ms/step - loss: 0.7449 - accuracy: 0.5875 - val_loss: 0.8541 - val_accuracy: 0.5333\n",
      "Epoch 12/100\n",
      "8/8 [==============================] - 0s 4ms/step - loss: 0.7440 - accuracy: 0.5875 - val_loss: 0.8522 - val_accuracy: 0.5333\n",
      "Epoch 13/100\n",
      "8/8 [==============================] - 0s 4ms/step - loss: 0.7430 - accuracy: 0.5875 - val_loss: 0.8503 - val_accuracy: 0.5333\n",
      "Epoch 14/100\n",
      "8/8 [==============================] - 0s 4ms/step - loss: 0.7419 - accuracy: 0.5875 - val_loss: 0.8486 - val_accuracy: 0.5333\n",
      "Epoch 15/100\n",
      "8/8 [==============================] - 0s 4ms/step - loss: 0.7409 - accuracy: 0.5875 - val_loss: 0.8468 - val_accuracy: 0.5333\n",
      "Epoch 16/100\n",
      "8/8 [==============================] - 0s 4ms/step - loss: 0.7399 - accuracy: 0.5875 - val_loss: 0.8450 - val_accuracy: 0.5333\n",
      "Epoch 17/100\n",
      "8/8 [==============================] - 0s 4ms/step - loss: 0.7391 - accuracy: 0.5875 - val_loss: 0.8431 - val_accuracy: 0.5333\n",
      "Epoch 18/100\n",
      "8/8 [==============================] - 0s 4ms/step - loss: 0.7380 - accuracy: 0.5875 - val_loss: 0.8414 - val_accuracy: 0.5333\n",
      "Epoch 19/100\n",
      "8/8 [==============================] - 0s 4ms/step - loss: 0.7370 - accuracy: 0.5875 - val_loss: 0.8397 - val_accuracy: 0.5333\n",
      "Epoch 20/100\n",
      "8/8 [==============================] - 0s 4ms/step - loss: 0.7362 - accuracy: 0.5917 - val_loss: 0.8381 - val_accuracy: 0.5333\n",
      "Epoch 21/100\n",
      "8/8 [==============================] - 0s 4ms/step - loss: 0.7352 - accuracy: 0.5917 - val_loss: 0.8365 - val_accuracy: 0.5333\n",
      "Epoch 22/100\n",
      "8/8 [==============================] - 0s 5ms/step - loss: 0.7343 - accuracy: 0.5917 - val_loss: 0.8349 - val_accuracy: 0.5333\n",
      "Epoch 23/100\n",
      "8/8 [==============================] - 0s 5ms/step - loss: 0.7335 - accuracy: 0.5958 - val_loss: 0.8332 - val_accuracy: 0.5333\n",
      "Epoch 24/100\n",
      "8/8 [==============================] - 0s 4ms/step - loss: 0.7326 - accuracy: 0.5958 - val_loss: 0.8316 - val_accuracy: 0.5333\n",
      "Epoch 25/100\n",
      "8/8 [==============================] - 0s 4ms/step - loss: 0.7317 - accuracy: 0.5958 - val_loss: 0.8301 - val_accuracy: 0.5333\n",
      "Epoch 26/100\n",
      "8/8 [==============================] - 0s 4ms/step - loss: 0.7309 - accuracy: 0.5958 - val_loss: 0.8287 - val_accuracy: 0.5333\n",
      "Epoch 27/100\n",
      "8/8 [==============================] - 0s 4ms/step - loss: 0.7302 - accuracy: 0.5958 - val_loss: 0.8271 - val_accuracy: 0.5333\n",
      "Epoch 28/100\n",
      "8/8 [==============================] - 0s 4ms/step - loss: 0.7291 - accuracy: 0.5958 - val_loss: 0.8256 - val_accuracy: 0.5333\n",
      "Epoch 29/100\n",
      "8/8 [==============================] - 0s 5ms/step - loss: 0.7282 - accuracy: 0.6000 - val_loss: 0.8240 - val_accuracy: 0.5333\n",
      "Epoch 30/100\n",
      "8/8 [==============================] - 0s 4ms/step - loss: 0.7275 - accuracy: 0.6000 - val_loss: 0.8223 - val_accuracy: 0.5333\n",
      "Epoch 31/100\n",
      "8/8 [==============================] - 0s 3ms/step - loss: 0.7267 - accuracy: 0.6000 - val_loss: 0.8207 - val_accuracy: 0.5333\n",
      "Epoch 32/100\n",
      "8/8 [==============================] - 0s 4ms/step - loss: 0.7259 - accuracy: 0.6000 - val_loss: 0.8193 - val_accuracy: 0.5333\n",
      "Epoch 33/100\n",
      "8/8 [==============================] - 0s 4ms/step - loss: 0.7250 - accuracy: 0.6000 - val_loss: 0.8180 - val_accuracy: 0.5333\n",
      "Epoch 34/100\n",
      "8/8 [==============================] - 0s 4ms/step - loss: 0.7243 - accuracy: 0.6000 - val_loss: 0.8166 - val_accuracy: 0.5333\n",
      "Epoch 35/100\n",
      "8/8 [==============================] - 0s 4ms/step - loss: 0.7236 - accuracy: 0.6000 - val_loss: 0.8150 - val_accuracy: 0.5333\n",
      "Epoch 36/100\n",
      "8/8 [==============================] - 0s 4ms/step - loss: 0.7228 - accuracy: 0.6042 - val_loss: 0.8135 - val_accuracy: 0.5333\n",
      "Epoch 37/100\n",
      "8/8 [==============================] - 0s 4ms/step - loss: 0.7219 - accuracy: 0.6000 - val_loss: 0.8124 - val_accuracy: 0.5333\n",
      "Epoch 38/100\n",
      "8/8 [==============================] - 0s 4ms/step - loss: 0.7213 - accuracy: 0.6083 - val_loss: 0.8110 - val_accuracy: 0.5333\n",
      "Epoch 39/100\n",
      "8/8 [==============================] - 0s 4ms/step - loss: 0.7206 - accuracy: 0.6125 - val_loss: 0.8097 - val_accuracy: 0.5333\n",
      "Epoch 40/100\n",
      "8/8 [==============================] - 0s 3ms/step - loss: 0.7199 - accuracy: 0.6083 - val_loss: 0.8084 - val_accuracy: 0.5333\n",
      "Epoch 41/100\n",
      "8/8 [==============================] - 0s 5ms/step - loss: 0.7193 - accuracy: 0.6125 - val_loss: 0.8069 - val_accuracy: 0.5333\n",
      "Epoch 42/100\n",
      "8/8 [==============================] - 0s 5ms/step - loss: 0.7184 - accuracy: 0.6125 - val_loss: 0.8057 - val_accuracy: 0.5333\n",
      "Epoch 43/100\n",
      "8/8 [==============================] - 0s 4ms/step - loss: 0.7178 - accuracy: 0.6125 - val_loss: 0.8044 - val_accuracy: 0.5333\n",
      "Epoch 44/100\n",
      "8/8 [==============================] - 0s 4ms/step - loss: 0.7171 - accuracy: 0.6125 - val_loss: 0.8030 - val_accuracy: 0.5333\n",
      "Epoch 45/100\n",
      "8/8 [==============================] - 0s 4ms/step - loss: 0.7164 - accuracy: 0.6125 - val_loss: 0.8019 - val_accuracy: 0.5333\n",
      "Epoch 46/100\n",
      "8/8 [==============================] - 0s 4ms/step - loss: 0.7158 - accuracy: 0.6125 - val_loss: 0.8006 - val_accuracy: 0.5333\n",
      "Epoch 47/100\n",
      "8/8 [==============================] - 0s 4ms/step - loss: 0.7151 - accuracy: 0.6125 - val_loss: 0.7994 - val_accuracy: 0.5333\n",
      "Epoch 48/100\n",
      "8/8 [==============================] - 0s 3ms/step - loss: 0.7145 - accuracy: 0.6125 - val_loss: 0.7980 - val_accuracy: 0.5333\n",
      "Epoch 49/100\n",
      "8/8 [==============================] - 0s 4ms/step - loss: 0.7138 - accuracy: 0.6125 - val_loss: 0.7967 - val_accuracy: 0.5333\n",
      "Epoch 50/100\n",
      "8/8 [==============================] - 0s 4ms/step - loss: 0.7131 - accuracy: 0.6125 - val_loss: 0.7956 - val_accuracy: 0.5333\n",
      "Epoch 51/100\n",
      "8/8 [==============================] - 0s 4ms/step - loss: 0.7126 - accuracy: 0.6125 - val_loss: 0.7942 - val_accuracy: 0.5333\n",
      "Epoch 52/100\n",
      "8/8 [==============================] - 0s 3ms/step - loss: 0.7118 - accuracy: 0.6125 - val_loss: 0.7930 - val_accuracy: 0.5333\n",
      "Epoch 53/100\n",
      "8/8 [==============================] - 0s 4ms/step - loss: 0.7112 - accuracy: 0.6125 - val_loss: 0.7917 - val_accuracy: 0.5333\n",
      "Epoch 54/100\n",
      "8/8 [==============================] - 0s 4ms/step - loss: 0.7106 - accuracy: 0.6167 - val_loss: 0.7905 - val_accuracy: 0.5333\n",
      "Epoch 55/100\n",
      "8/8 [==============================] - 0s 3ms/step - loss: 0.7101 - accuracy: 0.6167 - val_loss: 0.7893 - val_accuracy: 0.5333\n",
      "Epoch 56/100\n",
      "8/8 [==============================] - 0s 4ms/step - loss: 0.7094 - accuracy: 0.6167 - val_loss: 0.7882 - val_accuracy: 0.5333\n",
      "Epoch 57/100\n",
      "8/8 [==============================] - 0s 4ms/step - loss: 0.7089 - accuracy: 0.6167 - val_loss: 0.7871 - val_accuracy: 0.5333\n",
      "Epoch 58/100\n",
      "8/8 [==============================] - 0s 4ms/step - loss: 0.7083 - accuracy: 0.6167 - val_loss: 0.7859 - val_accuracy: 0.5333\n",
      "Epoch 59/100\n"
     ]
    },
    {
     "name": "stdout",
     "output_type": "stream",
     "text": [
      "8/8 [==============================] - 0s 3ms/step - loss: 0.7078 - accuracy: 0.6167 - val_loss: 0.7847 - val_accuracy: 0.5333\n",
      "Epoch 60/100\n",
      "8/8 [==============================] - 0s 4ms/step - loss: 0.7073 - accuracy: 0.6167 - val_loss: 0.7835 - val_accuracy: 0.5333\n",
      "Epoch 61/100\n",
      "8/8 [==============================] - 0s 4ms/step - loss: 0.7066 - accuracy: 0.6167 - val_loss: 0.7825 - val_accuracy: 0.5333\n",
      "Epoch 62/100\n",
      "8/8 [==============================] - 0s 3ms/step - loss: 0.7063 - accuracy: 0.6167 - val_loss: 0.7813 - val_accuracy: 0.5333\n",
      "Epoch 63/100\n",
      "8/8 [==============================] - 0s 3ms/step - loss: 0.7056 - accuracy: 0.6167 - val_loss: 0.7804 - val_accuracy: 0.5333\n",
      "Epoch 64/100\n",
      "8/8 [==============================] - 0s 3ms/step - loss: 0.7052 - accuracy: 0.6167 - val_loss: 0.7794 - val_accuracy: 0.5333\n",
      "Epoch 65/100\n",
      "8/8 [==============================] - 0s 4ms/step - loss: 0.7046 - accuracy: 0.6167 - val_loss: 0.7784 - val_accuracy: 0.5333\n",
      "Epoch 66/100\n",
      "8/8 [==============================] - 0s 4ms/step - loss: 0.7042 - accuracy: 0.6167 - val_loss: 0.7774 - val_accuracy: 0.5333\n",
      "Epoch 67/100\n",
      "8/8 [==============================] - 0s 4ms/step - loss: 0.7037 - accuracy: 0.6167 - val_loss: 0.7765 - val_accuracy: 0.5333\n",
      "Epoch 68/100\n",
      "8/8 [==============================] - 0s 4ms/step - loss: 0.7033 - accuracy: 0.6167 - val_loss: 0.7755 - val_accuracy: 0.5333\n",
      "Epoch 69/100\n",
      "8/8 [==============================] - 0s 3ms/step - loss: 0.7028 - accuracy: 0.6125 - val_loss: 0.7747 - val_accuracy: 0.5333\n",
      "Epoch 70/100\n",
      "8/8 [==============================] - 0s 4ms/step - loss: 0.7024 - accuracy: 0.6167 - val_loss: 0.7737 - val_accuracy: 0.5333\n",
      "Epoch 71/100\n",
      "8/8 [==============================] - 0s 4ms/step - loss: 0.7019 - accuracy: 0.6167 - val_loss: 0.7728 - val_accuracy: 0.5333\n",
      "Epoch 72/100\n",
      "8/8 [==============================] - 0s 4ms/step - loss: 0.7015 - accuracy: 0.6167 - val_loss: 0.7719 - val_accuracy: 0.5333\n",
      "Epoch 73/100\n",
      "8/8 [==============================] - ETA: 0s - loss: 0.7041 - accuracy: 0.71 - 0s 4ms/step - loss: 0.7010 - accuracy: 0.6167 - val_loss: 0.7710 - val_accuracy: 0.5333\n",
      "Epoch 74/100\n",
      "8/8 [==============================] - 0s 4ms/step - loss: 0.7005 - accuracy: 0.6167 - val_loss: 0.7703 - val_accuracy: 0.5333\n",
      "Epoch 75/100\n",
      "8/8 [==============================] - 0s 4ms/step - loss: 0.7002 - accuracy: 0.6250 - val_loss: 0.7693 - val_accuracy: 0.5333\n",
      "Epoch 76/100\n",
      "8/8 [==============================] - 0s 4ms/step - loss: 0.6997 - accuracy: 0.6333 - val_loss: 0.7685 - val_accuracy: 0.5333\n",
      "Epoch 77/100\n",
      "8/8 [==============================] - 0s 4ms/step - loss: 0.6994 - accuracy: 0.6333 - val_loss: 0.7677 - val_accuracy: 0.5333\n",
      "Epoch 78/100\n",
      "8/8 [==============================] - 0s 4ms/step - loss: 0.6990 - accuracy: 0.6333 - val_loss: 0.7668 - val_accuracy: 0.5333\n",
      "Epoch 79/100\n",
      "8/8 [==============================] - 0s 4ms/step - loss: 0.6986 - accuracy: 0.6333 - val_loss: 0.7660 - val_accuracy: 0.5333\n",
      "Epoch 80/100\n",
      "8/8 [==============================] - 0s 4ms/step - loss: 0.6983 - accuracy: 0.6333 - val_loss: 0.7652 - val_accuracy: 0.5333\n",
      "Epoch 81/100\n",
      "8/8 [==============================] - 0s 4ms/step - loss: 0.6980 - accuracy: 0.6333 - val_loss: 0.7645 - val_accuracy: 0.5333\n",
      "Epoch 82/100\n",
      "8/8 [==============================] - 0s 4ms/step - loss: 0.6975 - accuracy: 0.6333 - val_loss: 0.7638 - val_accuracy: 0.5333\n",
      "Epoch 83/100\n",
      "8/8 [==============================] - 0s 4ms/step - loss: 0.6973 - accuracy: 0.6333 - val_loss: 0.7630 - val_accuracy: 0.5333\n",
      "Epoch 84/100\n",
      "8/8 [==============================] - 0s 4ms/step - loss: 0.6969 - accuracy: 0.6333 - val_loss: 0.7622 - val_accuracy: 0.5333\n",
      "Epoch 85/100\n",
      "8/8 [==============================] - 0s 3ms/step - loss: 0.6966 - accuracy: 0.6333 - val_loss: 0.7614 - val_accuracy: 0.5333\n",
      "Epoch 86/100\n",
      "8/8 [==============================] - 0s 4ms/step - loss: 0.6962 - accuracy: 0.6333 - val_loss: 0.7606 - val_accuracy: 0.5333\n",
      "Epoch 87/100\n",
      "8/8 [==============================] - 0s 4ms/step - loss: 0.6959 - accuracy: 0.6333 - val_loss: 0.7598 - val_accuracy: 0.5333\n",
      "Epoch 88/100\n",
      "8/8 [==============================] - 0s 4ms/step - loss: 0.6956 - accuracy: 0.6333 - val_loss: 0.7591 - val_accuracy: 0.5333\n",
      "Epoch 89/100\n",
      "8/8 [==============================] - 0s 3ms/step - loss: 0.6952 - accuracy: 0.6333 - val_loss: 0.7584 - val_accuracy: 0.5333\n",
      "Epoch 90/100\n",
      "8/8 [==============================] - 0s 4ms/step - loss: 0.6949 - accuracy: 0.6333 - val_loss: 0.7577 - val_accuracy: 0.5333\n",
      "Epoch 91/100\n",
      "8/8 [==============================] - 0s 4ms/step - loss: 0.6947 - accuracy: 0.6333 - val_loss: 0.7567 - val_accuracy: 0.5333\n",
      "Epoch 92/100\n",
      "8/8 [==============================] - 0s 4ms/step - loss: 0.6943 - accuracy: 0.6333 - val_loss: 0.7560 - val_accuracy: 0.5333\n",
      "Epoch 93/100\n",
      "8/8 [==============================] - 0s 4ms/step - loss: 0.6939 - accuracy: 0.6333 - val_loss: 0.7552 - val_accuracy: 0.5333\n",
      "Epoch 94/100\n",
      "8/8 [==============================] - 0s 4ms/step - loss: 0.6936 - accuracy: 0.6333 - val_loss: 0.7544 - val_accuracy: 0.5333\n",
      "Epoch 95/100\n",
      "8/8 [==============================] - 0s 4ms/step - loss: 0.6933 - accuracy: 0.6333 - val_loss: 0.7537 - val_accuracy: 0.5333\n",
      "Epoch 96/100\n",
      "8/8 [==============================] - 0s 4ms/step - loss: 0.6930 - accuracy: 0.6333 - val_loss: 0.7531 - val_accuracy: 0.5333\n",
      "Epoch 97/100\n",
      "8/8 [==============================] - 0s 4ms/step - loss: 0.6928 - accuracy: 0.6333 - val_loss: 0.7523 - val_accuracy: 0.5333\n",
      "Epoch 98/100\n",
      "8/8 [==============================] - 0s 4ms/step - loss: 0.6925 - accuracy: 0.6333 - val_loss: 0.7519 - val_accuracy: 0.5333\n",
      "Epoch 99/100\n",
      "8/8 [==============================] - 0s 3ms/step - loss: 0.6922 - accuracy: 0.6333 - val_loss: 0.7512 - val_accuracy: 0.5333\n",
      "Epoch 100/100\n",
      "8/8 [==============================] - 0s 4ms/step - loss: 0.6919 - accuracy: 0.6333 - val_loss: 0.7505 - val_accuracy: 0.5333\n"
     ]
    }
   ],
   "source": [
    "# build and fit model\n",
    "\n",
    "# YOUR CODE HERE\n",
    "# Initialize model as a Keras Sequential model\n",
    "model2 =  Sequential()\n",
    "\n",
    "# Instatiate a custom callback\n",
    "callback = myCallback()\n",
    "\n",
    "# Add 2 Dense hidden layers with 32/16 neurons with a \n",
    "# tanh activation function\n",
    "model2.add(Dense(32, input_dim = X.shape[1], activation = 'tanh'))\n",
    "model2.add(Dense(16, activation = 'tanh'))\n",
    "\n",
    "# Set up output layer with a sigmoid activation function (2 classes only)\n",
    "model2.add(Dense(1, activation = 'sigmoid'))\n",
    "\n",
    "# Compile model using binary_crossentropy for loss function (2 classes only)\n",
    "model2.compile(loss = 'binary_crossentropy', optimizer = 'adam', metrics = 'accuracy')\n",
    "\n",
    "# Fir model for 100 epochs\n",
    "h2 = model1.fit(X, y, \n",
    "                epochs = 100, \n",
    "                validation_split = 0.2, \n",
    "                callbacks=[callback])"
   ]
  },
  {
   "cell_type": "code",
   "execution_count": 12,
   "metadata": {
    "deletable": false,
    "editable": false,
    "nbgrader": {
     "cell_type": "code",
     "checksum": "4a5f575f46f151f97f1cebc19a484bae",
     "grade": true,
     "grade_id": "cell-770612ca24334d8a",
     "locked": true,
     "points": 1,
     "schema_version": 3,
     "solution": false,
     "task": false
    }
   },
   "outputs": [],
   "source": [
    "# Visible test\n",
    "assert len(model2.get_config()[\"layers\"]) == 4, \"You should have 4 layers: Input, hidden 1, hidden 2, output.\"\n",
    "assert 5 <= model2.get_config()[\"layers\"][1][\"config\"][\"units\"] <= 32, \"You should have 5 - 32 units in hidden layer 1, but don't.\"\n",
    "assert 5 <= model2.get_config()[\"layers\"][2][\"config\"][\"units\"] <= 32, \"You should have 5 - 32 units in hidden layer 2, but don't.\"\n",
    "assert h2.params[\"epochs\"] == 100, \"You didn't set epochs to 100.\""
   ]
  },
  {
   "cell_type": "code",
   "execution_count": 13,
   "metadata": {
    "deletable": false,
    "editable": false,
    "nbgrader": {
     "cell_type": "code",
     "checksum": "3ca73d4d3d17897a570e19a8a97c050f",
     "grade": true,
     "grade_id": "cell-49b1bf7cce22b5b9",
     "locked": true,
     "points": 1,
     "schema_version": 3,
     "solution": false,
     "task": false
    }
   },
   "outputs": [],
   "source": [
    "# Hidden tests - you will see the results when you submit to Canvas"
   ]
  },
  {
   "cell_type": "markdown",
   "metadata": {},
   "source": [
    "### Analyze and Compare\n",
    "\n",
    "**Before you Start**: You will need to install an additional library for this next segment. \n",
    "\n",
    "Install the package `mlxtend` into the environment you are using for the sprint challenge.\n",
    "\n",
    "You can install this package using the following statement in the terminal\n",
    "\n",
    "```python\n",
    "pip install mlxtend\n",
    "```\n",
    "\n",
    "Or you can install this package using the following statement in your notebook\n",
    "\n",
    "```python\n",
    "!pip install mlxtend\n",
    "```\n",
    "\n",
    "If you choose to install this package from within your notebook, be sure to delete the install statement afterwards so that CodeGrade doesn't try to install it and potentially crash. \n",
    "\n",
    "\n",
    "The cells below generate decision boundary plots of your models (`model1` & `model2`). Review the plots."
   ]
  },
  {
   "cell_type": "code",
   "execution_count": 14,
   "metadata": {},
   "outputs": [
    {
     "data": {
      "text/plain": [
       "((300, 2), (300,))"
      ]
     },
     "execution_count": 14,
     "metadata": {},
     "output_type": "execute_result"
    }
   ],
   "source": [
    "X.shape, y.shape"
   ]
  },
  {
   "cell_type": "code",
   "execution_count": 15,
   "metadata": {},
   "outputs": [
    {
     "data": {
      "image/png": "[encoded data removed]",
      "text/plain": [
       "<Figure size 864x432 with 2 Axes>"
      ]
     },
     "metadata": {
      "needs_background": "light"
     },
     "output_type": "display_data"
    }
   ],
   "source": [
    "import matplotlib.pyplot as plt\n",
    "from mlxtend.plotting import plot_decision_regions\n",
    "\n",
    "\n",
    "fig = plt.figure(figsize=(12,6))\n",
    "\n",
    "for clf, hist, name, grd in zip([model1,model2], [h1, h2],['Perceptron', 'Multi-Layer Perceptron'],[1,2]):\n",
    "\n",
    "    ax = plt.subplot(1,2, grd)\n",
    "    fig = plot_decision_regions(X=X, y=y, clf=clf, legend=2)\n",
    "    title = f\"{name} with {hist.history['accuracy'][-1]:,.2f} Accuracy\"\n",
    "    plt.title(title)\n",
    "\n",
    "plt.show()"
   ]
  },
  {
   "cell_type": "markdown",
   "metadata": {
    "deletable": false,
    "editable": false,
    "nbgrader": {
     "cell_type": "markdown",
     "checksum": "40c30e638b6defe125180b9832a675e2",
     "grade": false,
     "grade_id": "cell-b1bde9222e35b3fc",
     "locked": true,
     "points": 0,
     "schema_version": 3,
     "solution": false,
     "task": true
    }
   },
   "source": [
    "1) Why does the Perceptron (`model1`) only achieve about 50% accuracy? \n",
    "\n",
    "2) What is the architectural property of the Multi-Layer Perceptron that allows it to more accurately learn the relationship between X and y? \n",
    "- Hint: recall that each layer represents a vector space and they usually have a different number of dimensions, $\\mathbb{R}^N$.\n",
    "   "
   ]
  },
  {
   "cell_type": "markdown",
   "metadata": {
    "deletable": false,
    "nbgrader": {
     "cell_type": "markdown",
     "checksum": "e01b50ff508342b905c5a4cdbd7d2dc4",
     "grade": true,
     "grade_id": "cell-302694c508c8da0e",
     "locked": false,
     "points": 0,
     "schema_version": 3,
     "solution": true,
     "task": false
    }
   },
   "source": [
    "YOUR ANSWER HERE\n",
    "1. The single Perceptron (model1) only achieves about 50% accuracy because it only has 1 neuron and is essentially trying to fit a single line through data that is divided in four quarters.\n",
    "2. The Multi-Layer Perceptron (model2) allows it to more accurately learn the relationship between X and y because it has 2 hidden layers that allow it to better learn non-linear relationships in data (such as X and y). In addition, model2 was ran for more epochs."
   ]
  },
  {
   "cell_type": "markdown",
   "metadata": {},
   "source": [
    "## 3. Keras MMP <a id=\"Q3\"></a>\n",
    "\n",
    "- Implement a Multilayer Perceptron architecture of your choosing using the Keras library. \n",
    "- Train your model and report its baseline accuracy. \n",
    "- Then `hyper-parameters tune two parameters each with no more than 2 values each`\n",
    "    - Due to limited computational resources on CodeGrade `DO NOT INCLUDE ADDITIONAL PARAMETERS OR VALUES PLEASE`\n",
    "- Report your optimized model's accuracy\n",
    "- Use the Heart Disease Dataset provided (binary classification)\n",
    "- Use an appropriate loss function for a binary classification task\n",
    "- Use an appropriate activation function on the final layer of your network.\n",
    "- Train your model using verbose output for ease of grading.\n",
    "- Use GridSearchCV to hyper-parameters tune your model. \n",
    "    - **Use `n_jobs` = 1**\n",
    "- When hyper-parameters tuning, show you work by adding code cells for each new experiment.\n",
    "- Report the accuracy for each combination of hyper-parameters as you test them so that we can easily see which resulted in the highest accuracy."
   ]
  },
  {
   "cell_type": "code",
   "execution_count": 16,
   "metadata": {
    "inputHidden": false,
    "jupyter": {
     "outputs_hidden": false
    },
    "outputHidden": false
   },
   "outputs": [
    {
     "name": "stdout",
     "output_type": "stream",
     "text": [
      "(303, 14)\n"
     ]
    },
    {
     "data": {
      "text/html": [
       "<div>\n",
       "<style scoped>\n",
       "    .dataframe tbody tr th:only-of-type {\n",
       "        vertical-align: middle;\n",
       "    }\n",
       "\n",
       "    .dataframe tbody tr th {\n",
       "        vertical-align: top;\n",
       "    }\n",
       "\n",
       "    .dataframe thead th {\n",
       "        text-align: right;\n",
       "    }\n",
       "</style>\n",
       "<table border=\"1\" class=\"dataframe\">\n",
       "  <thead>\n",
       "    <tr style=\"text-align: right;\">\n",
       "      <th></th>\n",
       "      <th>age</th>\n",
       "      <th>sex</th>\n",
       "      <th>cp</th>\n",
       "      <th>trestbps</th>\n",
       "      <th>chol</th>\n",
       "      <th>fbs</th>\n",
       "      <th>restecg</th>\n",
       "      <th>thalach</th>\n",
       "      <th>exang</th>\n",
       "      <th>oldpeak</th>\n",
       "      <th>slope</th>\n",
       "      <th>ca</th>\n",
       "      <th>thal</th>\n",
       "      <th>target</th>\n",
       "    </tr>\n",
       "  </thead>\n",
       "  <tbody>\n",
       "    <tr>\n",
       "      <th>20</th>\n",
       "      <td>59</td>\n",
       "      <td>1</td>\n",
       "      <td>0</td>\n",
       "      <td>135</td>\n",
       "      <td>234</td>\n",
       "      <td>0</td>\n",
       "      <td>1</td>\n",
       "      <td>161</td>\n",
       "      <td>0</td>\n",
       "      <td>0.5</td>\n",
       "      <td>1</td>\n",
       "      <td>0</td>\n",
       "      <td>3</td>\n",
       "      <td>1</td>\n",
       "    </tr>\n",
       "    <tr>\n",
       "      <th>2</th>\n",
       "      <td>41</td>\n",
       "      <td>0</td>\n",
       "      <td>1</td>\n",
       "      <td>130</td>\n",
       "      <td>204</td>\n",
       "      <td>0</td>\n",
       "      <td>0</td>\n",
       "      <td>172</td>\n",
       "      <td>0</td>\n",
       "      <td>1.4</td>\n",
       "      <td>2</td>\n",
       "      <td>0</td>\n",
       "      <td>2</td>\n",
       "      <td>1</td>\n",
       "    </tr>\n",
       "    <tr>\n",
       "      <th>158</th>\n",
       "      <td>58</td>\n",
       "      <td>1</td>\n",
       "      <td>1</td>\n",
       "      <td>125</td>\n",
       "      <td>220</td>\n",
       "      <td>0</td>\n",
       "      <td>1</td>\n",
       "      <td>144</td>\n",
       "      <td>0</td>\n",
       "      <td>0.4</td>\n",
       "      <td>1</td>\n",
       "      <td>4</td>\n",
       "      <td>3</td>\n",
       "      <td>1</td>\n",
       "    </tr>\n",
       "    <tr>\n",
       "      <th>12</th>\n",
       "      <td>49</td>\n",
       "      <td>1</td>\n",
       "      <td>1</td>\n",
       "      <td>130</td>\n",
       "      <td>266</td>\n",
       "      <td>0</td>\n",
       "      <td>1</td>\n",
       "      <td>171</td>\n",
       "      <td>0</td>\n",
       "      <td>0.6</td>\n",
       "      <td>2</td>\n",
       "      <td>0</td>\n",
       "      <td>2</td>\n",
       "      <td>1</td>\n",
       "    </tr>\n",
       "    <tr>\n",
       "      <th>85</th>\n",
       "      <td>67</td>\n",
       "      <td>0</td>\n",
       "      <td>2</td>\n",
       "      <td>115</td>\n",
       "      <td>564</td>\n",
       "      <td>0</td>\n",
       "      <td>0</td>\n",
       "      <td>160</td>\n",
       "      <td>0</td>\n",
       "      <td>1.6</td>\n",
       "      <td>1</td>\n",
       "      <td>0</td>\n",
       "      <td>3</td>\n",
       "      <td>1</td>\n",
       "    </tr>\n",
       "  </tbody>\n",
       "</table>\n",
       "</div>"
      ],
      "text/plain": [
       "     age  sex  cp  trestbps  chol  fbs  restecg  thalach  exang  oldpeak  \\\n",
       "20    59    1   0       135   234    0        1      161      0      0.5   \n",
       "2     41    0   1       130   204    0        0      172      0      1.4   \n",
       "158   58    1   1       125   220    0        1      144      0      0.4   \n",
       "12    49    1   1       130   266    0        1      171      0      0.6   \n",
       "85    67    0   2       115   564    0        0      160      0      1.6   \n",
       "\n",
       "     slope  ca  thal  target  \n",
       "20       1   0     3       1  \n",
       "2        2   0     2       1  \n",
       "158      1   4     3       1  \n",
       "12       2   0     2       1  \n",
       "85       1   0     3       1  "
      ]
     },
     "execution_count": 16,
     "metadata": {},
     "output_type": "execute_result"
    }
   ],
   "source": [
    "import pandas as pd\n",
    "from sklearn.preprocessing import StandardScaler\n",
    "\n",
    "# load data\n",
    "data_path = 'https://raw.githubusercontent.com/ryanleeallred/datasets/master/heart.csv'\n",
    "df = pd.read_csv(data_path)\n",
    "df = df.sample(frac=1)\n",
    "print(df.shape)\n",
    "df.head()"
   ]
  },
  {
   "cell_type": "code",
   "execution_count": 17,
   "metadata": {
    "deletable": false,
    "nbgrader": {
     "cell_type": "code",
     "checksum": "22de1dc5d17d7a0bc674d082c33e8b65",
     "grade": false,
     "grade_id": "cell-85dc40f19f5a1d6b",
     "locked": false,
     "schema_version": 3,
     "solution": true,
     "task": false
    }
   },
   "outputs": [],
   "source": [
    "# Create an input matrix named 'X' store it in a 2D numpy array\n",
    "\n",
    "# Create an output vector for the labels named 'Y', store it in 1D numpy array\n",
    "\n",
    "# YOUR CODE HERE\n",
    "X = np.array(df[['age', 'sex', 'cp', 'trestbps', 'chol', 'fbs', 'restecg', \n",
    "                 'thalach', 'exang', 'oldpeak', 'slope', 'ca', 'thal']])\n",
    "Y = np.array(df['target'])"
   ]
  },
  {
   "cell_type": "code",
   "execution_count": 18,
   "metadata": {},
   "outputs": [
    {
     "data": {
      "text/plain": [
       "(303, 13)"
      ]
     },
     "execution_count": 18,
     "metadata": {},
     "output_type": "execute_result"
    }
   ],
   "source": [
    "X.shape"
   ]
  },
  {
   "cell_type": "code",
   "execution_count": 19,
   "metadata": {
    "deletable": false,
    "editable": false,
    "nbgrader": {
     "cell_type": "code",
     "checksum": "825d4f808810a2a8d6301d7453afe478",
     "grade": true,
     "grade_id": "cell-c17c686c974edc2e",
     "locked": true,
     "points": 1,
     "schema_version": 3,
     "solution": false,
     "task": false
    }
   },
   "outputs": [],
   "source": [
    "# Visible Testing\n",
    "assert X.shape[0] == 303, \"Did you drop/lose some rows in X? Did you properly load and split the data?\"\n",
    "assert X.shape[1] == 13, \"Did you drop/lose some columns in X? Did you properly load and split the data?\"\n",
    "assert len(Y)== 303, \"Did you drop/lose some rows in Y? Did you properly load and split the data?\""
   ]
  },
  {
   "cell_type": "code",
   "execution_count": 20,
   "metadata": {},
   "outputs": [],
   "source": [
    "import tensorflow.keras\n",
    "from tensorflow.keras.models import Sequential\n",
    "from tensorflow.keras.layers import Dense\n",
    "from sklearn.model_selection import GridSearchCV\n",
    "from tensorflow.keras.wrappers.scikit_learn import KerasClassifier"
   ]
  },
  {
   "cell_type": "code",
   "execution_count": 21,
   "metadata": {
    "deletable": false,
    "nbgrader": {
     "cell_type": "code",
     "checksum": "475835631ff6a34028443dbf604bd922",
     "grade": false,
     "grade_id": "cell-cfc5517cd0b6fa64",
     "locked": false,
     "schema_version": 3,
     "solution": true,
     "task": false
    }
   },
   "outputs": [],
   "source": [
    "# Create a function named 'create_model' that returns a compiled keras model -  required for KerasClassifier\n",
    "# YOUR CODE HERE\n",
    "def create_model(n_layers, first_layer_nodes, act_func, opt):\n",
    "    \"\"\"\n",
    "    Creates a compiled Keras model with 3 hidden layers\n",
    "    \"\"\"\n",
    "    # Calculate the nodes for the last layer\n",
    "    last_layer_nodes = round((first_layer_nodes / n_layers))\n",
    "    \n",
    "    # Create a list of nodes for each layer and\n",
    "    # Loop through the node list decreasing the nodes in each layer proportionately\n",
    "    n_nodes = [first_layer_nodes]\n",
    "    nodes_dec = round((last_layer_nodes - first_layer_nodes)/ (n_layers-1))\n",
    "    \n",
    "    for j in range(0, n_layers - 1):\n",
    "        n_nodes.append((n_nodes[j] + nodes_dec))\n",
    "    \n",
    "    # Initialize model as a Keras Sequential model\n",
    "    model =  Sequential()\n",
    "    \n",
    "    # Add Dense hidden n_layers with appropriate nodes & activation function\n",
    "    for i in range(1, n_layers):\n",
    "        if i == 1:\n",
    "            model.add(Dense(first_layer_nodes, \n",
    "                            input_dim = X.shape[1], \n",
    "                            activation = act_func))\n",
    "        else:\n",
    "            model2.add(Dense(n_nodes[i-1], activation = act_func))\n",
    "\n",
    "    # Set up output layer with a sigmoid activation function (2 classes only)\n",
    "    model.add(Dense(1, activation = 'sigmoid'))\n",
    "\n",
    "    # Compile model using binary_crossentropy for loss function (2 classes only)\n",
    "    model.compile(loss = 'binary_crossentropy', \n",
    "                  optimizer = opt, \n",
    "                  metrics = 'accuracy')\n",
    "    \n",
    "    return model\n"
   ]
  },
  {
   "cell_type": "code",
   "execution_count": 22,
   "metadata": {
    "deletable": false,
    "editable": false,
    "nbgrader": {
     "cell_type": "code",
     "checksum": "7b906697afb0a3b52cd19e9548eae6a7",
     "grade": true,
     "grade_id": "cell-fac25126eaf1eee4",
     "locked": true,
     "points": 1,
     "schema_version": 3,
     "solution": false,
     "task": false
    }
   },
   "outputs": [
    {
     "ename": "TypeError",
     "evalue": "create_model() missing 4 required positional arguments: 'n_layers', 'first_layer_nodes', 'act_func', and 'opt'",
     "output_type": "error",
     "traceback": [
      "\u001b[1;31m---------------------------------------------------------------------------\u001b[0m",
      "\u001b[1;31mTypeError\u001b[0m                                 Traceback (most recent call last)",
      "\u001b[1;32m~\\AppData\\Local\\Temp/ipykernel_28272/1151888106.py\u001b[0m in \u001b[0;36m<module>\u001b[1;34m\u001b[0m\n\u001b[0;32m      1\u001b[0m \u001b[1;31m# Visible Testing\u001b[0m\u001b[1;33m\u001b[0m\u001b[1;33m\u001b[0m\u001b[1;33m\u001b[0m\u001b[0m\n\u001b[1;32m----> 2\u001b[1;33m \u001b[1;32massert\u001b[0m \u001b[0mcreate_model\u001b[0m\u001b[1;33m(\u001b[0m\u001b[1;33m)\u001b[0m\u001b[1;33m.\u001b[0m\u001b[0m__module__\u001b[0m \u001b[1;33m==\u001b[0m \u001b[1;34m'tensorflow.python.keras.engine.sequential'\u001b[0m\u001b[1;33m,\u001b[0m \u001b[1;34m\"create_model should return a keras model that was created using the Sequential class.\"\u001b[0m\u001b[1;33m\u001b[0m\u001b[1;33m\u001b[0m\u001b[0m\n\u001b[0m",
      "\u001b[1;31mTypeError\u001b[0m: create_model() missing 4 required positional arguments: 'n_layers', 'first_layer_nodes', 'act_func', and 'opt'"
     ]
    }
   ],
   "source": [
    "# Visible Testing\n",
    "assert create_model().__module__ == 'tensorflow.python.keras.engine.sequential', \"create_model should return a keras model that was created using the Sequential class.\""
   ]
  },
  {
   "cell_type": "code",
   "execution_count": 23,
   "metadata": {
    "deletable": false,
    "nbgrader": {
     "cell_type": "code",
     "checksum": "0412c74b7803790452d4914d99995dd2",
     "grade": false,
     "grade_id": "cell-fbc3d0a07230078c",
     "locked": false,
     "schema_version": 3,
     "solution": true,
     "task": false
    }
   },
   "outputs": [],
   "source": [
    "# Pass 'create_model' into KerasClassifier, store KerasClassifier to a variable named 'model'\n",
    "# YOUR CODE HERE\n",
    "model = KerasClassifier(build_fn = create_model)"
   ]
  },
  {
   "cell_type": "code",
   "execution_count": 24,
   "metadata": {
    "deletable": false,
    "editable": false,
    "nbgrader": {
     "cell_type": "code",
     "checksum": "0442c29a94065e922c5ae929976a52ab",
     "grade": true,
     "grade_id": "cell-464e7506993775f2",
     "locked": true,
     "points": 1,
     "schema_version": 3,
     "solution": false,
     "task": false
    }
   },
   "outputs": [
    {
     "ename": "AssertionError",
     "evalue": "model should be a instance of KerasClassifier.",
     "output_type": "error",
     "traceback": [
      "\u001b[1;31m---------------------------------------------------------------------------\u001b[0m",
      "\u001b[1;31mAssertionError\u001b[0m                            Traceback (most recent call last)",
      "\u001b[1;32m~\\AppData\\Local\\Temp/ipykernel_28272/3691526007.py\u001b[0m in \u001b[0;36m<module>\u001b[1;34m\u001b[0m\n\u001b[0;32m      1\u001b[0m \u001b[1;31m# Visible Testing\u001b[0m\u001b[1;33m\u001b[0m\u001b[1;33m\u001b[0m\u001b[1;33m\u001b[0m\u001b[0m\n\u001b[1;32m----> 2\u001b[1;33m \u001b[1;32massert\u001b[0m \u001b[0mmodel\u001b[0m\u001b[1;33m.\u001b[0m\u001b[0m__module__\u001b[0m \u001b[1;33m==\u001b[0m \u001b[1;34m'tensorflow.python.keras.wrappers.scikit_learn'\u001b[0m\u001b[1;33m,\u001b[0m \u001b[1;34m\"model should be a instance of KerasClassifier.\"\u001b[0m\u001b[1;33m\u001b[0m\u001b[1;33m\u001b[0m\u001b[0m\n\u001b[0m",
      "\u001b[1;31mAssertionError\u001b[0m: model should be a instance of KerasClassifier."
     ]
    }
   ],
   "source": [
    "# Visible Testing\n",
    "assert model.__module__ == 'tensorflow.python.keras.wrappers.scikit_learn', \"model should be a instance of KerasClassifier.\""
   ]
  },
  {
   "cell_type": "code",
   "execution_count": 25,
   "metadata": {},
   "outputs": [
    {
     "name": "stdout",
     "output_type": "stream",
     "text": [
      "Epoch 1/5\n",
      "8/8 [==============================] - 0s 17ms/step - loss: 0.7578 - accuracy: 0.5496 - val_loss: 0.7124 - val_accuracy: 0.5246\n",
      "Epoch 2/5\n",
      "8/8 [==============================] - 0s 4ms/step - loss: 0.6926 - accuracy: 0.5537 - val_loss: 0.6836 - val_accuracy: 0.5246\n",
      "Epoch 3/5\n",
      "8/8 [==============================] - 0s 4ms/step - loss: 0.6802 - accuracy: 0.5331 - val_loss: 0.6633 - val_accuracy: 0.5246\n",
      "Epoch 4/5\n",
      "8/8 [==============================] - 0s 5ms/step - loss: 0.6700 - accuracy: 0.5496 - val_loss: 0.6485 - val_accuracy: 0.6885\n",
      "Epoch 5/5\n",
      "8/8 [==============================] - 0s 4ms/step - loss: 0.6655 - accuracy: 0.5909 - val_loss: 0.6487 - val_accuracy: 0.7377\n"
     ]
    },
    {
     "data": {
      "text/plain": [
       "<keras.callbacks.History at 0x2a76a13b580>"
      ]
     },
     "execution_count": 25,
     "metadata": {},
     "output_type": "execute_result"
    }
   ],
   "source": [
    "base_model = create_model(n_layers = 3, \n",
    "                          first_layer_nodes =100, \n",
    "                          act_func = 'sigmoid', \n",
    "                          opt = 'sgd')\n",
    "\n",
    "base_model.fit(X, Y, epochs =5, validation_split = 0.2)"
   ]
  },
  {
   "cell_type": "code",
   "execution_count": 26,
   "metadata": {},
   "outputs": [
    {
     "name": "stdout",
     "output_type": "stream",
     "text": [
      "10/10 [==============================] - 0s 1ms/step - loss: 0.6603 - accuracy: 0.6634\n",
      "Baseline Model Accuracy is: 0.6634\n"
     ]
    }
   ],
   "source": [
    "print(f'Baseline Model Accuracy is: {base_model.evaluate(X, Y)[1]:2.4f}')"
   ]
  },
  {
   "cell_type": "code",
   "execution_count": 27,
   "metadata": {
    "deletable": false,
    "nbgrader": {
     "cell_type": "code",
     "checksum": "f88603ef37a4d3d2ef8699a41ac9a0b2",
     "grade": false,
     "grade_id": "cell-985c0425f3b1304d",
     "locked": false,
     "schema_version": 3,
     "solution": true,
     "task": false
    }
   },
   "outputs": [],
   "source": [
    "# Define the grid search parameters inside a dictionary named 'param_grid' \n",
    "# Use 2 hyper-parameters with 2 possible values for each \n",
    "\n",
    "# YOUR CODE HERE\n",
    "\"\"\"\n",
    "Because create_model as written requires 4 arguments,param_grid has to \n",
    "include 4 arguments even though it only tests 2 arguments for the GridSearch.\n",
    "This means the test in the cell below will fail.\n",
    "\"\"\"\n",
    "param_grid = {'n_layers': [5, 10],\n",
    "              'first_layer_nodes': [256, 512],\n",
    "              'act_func': ['tanh'], \n",
    "              'opt': ['adam']\n",
    "             }"
   ]
  },
  {
   "cell_type": "code",
   "execution_count": 28,
   "metadata": {
    "deletable": false,
    "editable": false,
    "nbgrader": {
     "cell_type": "code",
     "checksum": "a551fd8278b30c1318c036f6ad43b503",
     "grade": true,
     "grade_id": "cell-c765b5db5489d7a2",
     "locked": true,
     "points": 1,
     "schema_version": 3,
     "solution": false,
     "task": false
    }
   },
   "outputs": [
    {
     "ename": "AssertionError",
     "evalue": "Did you create a param dict with 2 hyper-parameters as keys?",
     "output_type": "error",
     "traceback": [
      "\u001b[1;31m---------------------------------------------------------------------------\u001b[0m",
      "\u001b[1;31mAssertionError\u001b[0m                            Traceback (most recent call last)",
      "\u001b[1;32m~\\AppData\\Local\\Temp/ipykernel_28272/659977840.py\u001b[0m in \u001b[0;36m<module>\u001b[1;34m\u001b[0m\n\u001b[1;32m----> 1\u001b[1;33m \u001b[1;32massert\u001b[0m \u001b[0mlen\u001b[0m\u001b[1;33m(\u001b[0m\u001b[0mparam_grid\u001b[0m\u001b[1;33m.\u001b[0m\u001b[0mkeys\u001b[0m\u001b[1;33m(\u001b[0m\u001b[1;33m)\u001b[0m\u001b[1;33m)\u001b[0m \u001b[1;33m==\u001b[0m \u001b[1;36m2\u001b[0m\u001b[1;33m,\u001b[0m \u001b[1;34m\"Did you create a param dict with 2 hyper-parameters as keys?\"\u001b[0m\u001b[1;33m\u001b[0m\u001b[1;33m\u001b[0m\u001b[0m\n\u001b[0m",
      "\u001b[1;31mAssertionError\u001b[0m: Did you create a param dict with 2 hyper-parameters as keys?"
     ]
    }
   ],
   "source": [
    "assert len(param_grid.keys()) == 2, \"Did you create a param dict with 2 hyper-parameters as keys?\""
   ]
  },
  {
   "cell_type": "code",
   "execution_count": 29,
   "metadata": {
    "deletable": false,
    "nbgrader": {
     "cell_type": "code",
     "checksum": "2ea6312f4bc1f42809196b696037dd52",
     "grade": false,
     "grade_id": "cell-7cfb4315eab5031c",
     "locked": false,
     "schema_version": 3,
     "solution": true,
     "task": false
    }
   },
   "outputs": [
    {
     "name": "stdout",
     "output_type": "stream",
     "text": [
      "Epoch 1/5\n",
      "7/7 [==============================] - 0s 1ms/step - loss: 0.6477 - accuracy: 0.6485\n",
      "Epoch 2/5\n",
      "7/7 [==============================] - 0s 1ms/step - loss: 0.5895 - accuracy: 0.6980\n",
      "Epoch 3/5\n",
      "7/7 [==============================] - 0s 1ms/step - loss: 0.5853 - accuracy: 0.6980\n",
      "Epoch 4/5\n",
      "7/7 [==============================] - 0s 1ms/step - loss: 0.5656 - accuracy: 0.7178\n",
      "Epoch 5/5\n",
      "7/7 [==============================] - 0s 1ms/step - loss: 0.5664 - accuracy: 0.7228\n",
      "4/4 [==============================] - 0s 1ms/step - loss: 0.5682 - accuracy: 0.7030\n",
      "Epoch 1/5\n",
      "7/7 [==============================] - 0s 1ms/step - loss: 0.6648 - accuracy: 0.5941\n",
      "Epoch 2/5\n",
      "7/7 [==============================] - 0s 1ms/step - loss: 0.5776 - accuracy: 0.7129\n",
      "Epoch 3/5\n",
      "7/7 [==============================] - 0s 2ms/step - loss: 0.5713 - accuracy: 0.7178\n",
      "Epoch 4/5\n",
      "7/7 [==============================] - 0s 2ms/step - loss: 0.5736 - accuracy: 0.6782\n",
      "Epoch 5/5\n",
      "7/7 [==============================] - 0s 2ms/step - loss: 0.5542 - accuracy: 0.7178\n",
      "4/4 [==============================] - 0s 1ms/step - loss: 0.6355 - accuracy: 0.7030\n",
      "Epoch 1/5\n",
      "7/7 [==============================] - 0s 1ms/step - loss: 0.7218 - accuracy: 0.5891\n",
      "Epoch 2/5\n",
      "7/7 [==============================] - 0s 1ms/step - loss: 0.6405 - accuracy: 0.6139\n",
      "Epoch 3/5\n",
      "7/7 [==============================] - 0s 1ms/step - loss: 0.6161 - accuracy: 0.6139\n",
      "Epoch 4/5\n",
      "7/7 [==============================] - 0s 1ms/step - loss: 0.5998 - accuracy: 0.6733\n",
      "Epoch 5/5\n",
      "7/7 [==============================] - 0s 1ms/step - loss: 0.5792 - accuracy: 0.7178\n",
      "4/4 [==============================] - 0s 2ms/step - loss: 0.5812 - accuracy: 0.7129\n",
      "Epoch 1/5\n",
      "7/7 [==============================] - 0s 2ms/step - loss: 0.8684 - accuracy: 0.3713\n",
      "Epoch 2/5\n",
      "7/7 [==============================] - 0s 1ms/step - loss: 0.6792 - accuracy: 0.5347\n",
      "Epoch 3/5\n",
      "7/7 [==============================] - 0s 1ms/step - loss: 0.6364 - accuracy: 0.6436\n",
      "Epoch 4/5\n",
      "7/7 [==============================] - 0s 1ms/step - loss: 0.6119 - accuracy: 0.6634\n",
      "Epoch 5/5\n",
      "7/7 [==============================] - 0s 2ms/step - loss: 0.6146 - accuracy: 0.6485\n",
      "4/4 [==============================] - 0s 6ms/step - loss: 0.5975 - accuracy: 0.6931\n",
      "Epoch 1/5\n",
      "7/7 [==============================] - 0s 1ms/step - loss: 0.7875 - accuracy: 0.4901\n",
      "Epoch 2/5\n",
      "7/7 [==============================] - 0s 1ms/step - loss: 0.6390 - accuracy: 0.6238\n",
      "Epoch 3/5\n",
      "7/7 [==============================] - 0s 1ms/step - loss: 0.5759 - accuracy: 0.6931\n",
      "Epoch 4/5\n",
      "7/7 [==============================] - 0s 1ms/step - loss: 0.5824 - accuracy: 0.7178\n",
      "Epoch 5/5\n",
      "7/7 [==============================] - 0s 1ms/step - loss: 0.5639 - accuracy: 0.7030\n",
      "4/4 [==============================] - 0s 1ms/step - loss: 0.6452 - accuracy: 0.6733\n",
      "Epoch 1/5\n",
      "7/7 [==============================] - 0s 1ms/step - loss: 0.6850 - accuracy: 0.5842\n",
      "Epoch 2/5\n",
      "7/7 [==============================] - 0s 852us/step - loss: 0.6435 - accuracy: 0.6683\n",
      "Epoch 3/5\n",
      "7/7 [==============================] - 0s 0s/step - loss: 0.6261 - accuracy: 0.6337\n",
      "Epoch 4/5\n",
      "7/7 [==============================] - 0s 3ms/step - loss: 0.6028 - accuracy: 0.6832\n",
      "Epoch 5/5\n",
      "7/7 [==============================] - 0s 1000us/step - loss: 0.5857 - accuracy: 0.6980\n",
      "4/4 [==============================] - 0s 2ms/step - loss: 0.5764 - accuracy: 0.7030\n",
      "Epoch 1/5\n",
      "7/7 [==============================] - 0s 2ms/step - loss: 0.6576 - accuracy: 0.5891\n",
      "Epoch 2/5\n",
      "7/7 [==============================] - 0s 1ms/step - loss: 0.5849 - accuracy: 0.6931\n",
      "Epoch 3/5\n",
      "7/7 [==============================] - 0s 1ms/step - loss: 0.5647 - accuracy: 0.7178\n",
      "Epoch 4/5\n",
      "7/7 [==============================] - 0s 1ms/step - loss: 0.5496 - accuracy: 0.7178\n",
      "Epoch 5/5\n",
      "7/7 [==============================] - 0s 2ms/step - loss: 0.5430 - accuracy: 0.7426\n",
      "4/4 [==============================] - 0s 1ms/step - loss: 0.5649 - accuracy: 0.6931\n",
      "Epoch 1/5\n",
      "7/7 [==============================] - 0s 1ms/step - loss: 0.7256 - accuracy: 0.5495\n",
      "Epoch 2/5\n",
      "7/7 [==============================] - 0s 1ms/step - loss: 0.5952 - accuracy: 0.6683\n",
      "Epoch 3/5\n",
      "7/7 [==============================] - 0s 1ms/step - loss: 0.5575 - accuracy: 0.7129\n",
      "Epoch 4/5\n",
      "7/7 [==============================] - 0s 1ms/step - loss: 0.5477 - accuracy: 0.7079\n",
      "Epoch 5/5\n",
      "7/7 [==============================] - 0s 2ms/step - loss: 0.5417 - accuracy: 0.7178\n",
      "4/4 [==============================] - 0s 1ms/step - loss: 0.6320 - accuracy: 0.7030\n",
      "Epoch 1/5\n",
      "7/7 [==============================] - 0s 1ms/step - loss: 0.7070 - accuracy: 0.5545\n",
      "Epoch 2/5\n",
      "7/7 [==============================] - 0s 1ms/step - loss: 0.6072 - accuracy: 0.6782\n",
      "Epoch 3/5\n",
      "7/7 [==============================] - 0s 1ms/step - loss: 0.5845 - accuracy: 0.7079\n",
      "Epoch 4/5\n",
      "7/7 [==============================] - 0s 999us/step - loss: 0.5634 - accuracy: 0.7129\n",
      "Epoch 5/5\n",
      "7/7 [==============================] - 0s 1ms/step - loss: 0.5552 - accuracy: 0.7277\n",
      "4/4 [==============================] - 0s 6ms/step - loss: 0.5662 - accuracy: 0.6436\n",
      "Epoch 1/5\n",
      "7/7 [==============================] - 0s 3ms/step - loss: 0.7409 - accuracy: 0.5248\n",
      "Epoch 2/5\n",
      "7/7 [==============================] - 0s 1ms/step - loss: 0.6556 - accuracy: 0.6337\n",
      "Epoch 3/5\n",
      "7/7 [==============================] - 0s 1ms/step - loss: 0.5838 - accuracy: 0.7030\n",
      "Epoch 4/5\n",
      "7/7 [==============================] - 0s 2ms/step - loss: 0.5861 - accuracy: 0.6683\n",
      "Epoch 5/5\n",
      "7/7 [==============================] - 0s 999us/step - loss: 0.5485 - accuracy: 0.7426\n",
      "4/4 [==============================] - 0s 1ms/step - loss: 0.5480 - accuracy: 0.7129\n",
      "Epoch 1/5\n",
      "7/7 [==============================] - 0s 1ms/step - loss: 0.7041 - accuracy: 0.5149\n",
      "Epoch 2/5\n",
      "7/7 [==============================] - 0s 1ms/step - loss: 0.5818 - accuracy: 0.7030\n",
      "Epoch 3/5\n",
      "7/7 [==============================] - 0s 1ms/step - loss: 0.5763 - accuracy: 0.6733\n",
      "Epoch 4/5\n",
      "7/7 [==============================] - 0s 833us/step - loss: 0.5901 - accuracy: 0.6782\n",
      "Epoch 5/5\n",
      "7/7 [==============================] - 0s 1ms/step - loss: 0.5523 - accuracy: 0.7079\n",
      "4/4 [==============================] - 0s 1ms/step - loss: 0.6555 - accuracy: 0.6733\n",
      "Epoch 1/5\n",
      "7/7 [==============================] - 0s 3ms/step - loss: 0.6853 - accuracy: 0.5693\n",
      "Epoch 2/5\n",
      "7/7 [==============================] - 0s 1ms/step - loss: 0.6301 - accuracy: 0.6436\n",
      "Epoch 3/5\n",
      "7/7 [==============================] - 0s 1ms/step - loss: 0.5817 - accuracy: 0.6980\n",
      "Epoch 4/5\n",
      "7/7 [==============================] - 0s 1ms/step - loss: 0.5711 - accuracy: 0.7277\n",
      "Epoch 5/5\n",
      "7/7 [==============================] - 0s 1ms/step - loss: 0.5565 - accuracy: 0.7030\n",
      "4/4 [==============================] - 0s 1ms/step - loss: 0.5574 - accuracy: 0.6535\n",
      "Epoch 1/5\n",
      "10/10 [==============================] - 0s 1000us/step - loss: 0.8369 - accuracy: 0.5182\n",
      "Epoch 2/5\n",
      "10/10 [==============================] - 0s 1ms/step - loss: 0.6443 - accuracy: 0.6205\n",
      "Epoch 3/5\n",
      "10/10 [==============================] - 0s 997us/step - loss: 0.6159 - accuracy: 0.6337\n",
      "Epoch 4/5\n",
      "10/10 [==============================] - 0s 1ms/step - loss: 0.5969 - accuracy: 0.6964\n",
      "Epoch 5/5\n",
      "10/10 [==============================] - 0s 1ms/step - loss: 0.5835 - accuracy: 0.7063\n"
     ]
    }
   ],
   "source": [
    "# Create Grid Search object and name it 'gs'\n",
    "# Run Grid Search \n",
    "# YOUR CODE HERE\n",
    "gs = GridSearchCV(estimator = model,\n",
    "                 param_grid = param_grid,\n",
    "                 n_jobs = 1,\n",
    "                 cv = 3)\n",
    "\n",
    "grid_result = gs.fit(X, Y, epochs = 5)"
   ]
  },
  {
   "cell_type": "code",
   "execution_count": 30,
   "metadata": {},
   "outputs": [
    {
     "name": "stdout",
     "output_type": "stream",
     "text": [
      "Best: 0.7062706549962362 using {'act_func': 'tanh', 'first_layer_nodes': 256, 'n_layers': 5, 'opt': 'adam'}\n",
      "Means: 0.7062706549962362, Stdev: 0.004667370101995412 with: {'act_func': 'tanh', 'first_layer_nodes': 256, 'n_layers': 5, 'opt': 'adam'}\n",
      "Means: 0.6897689700126648, Stdev: 0.012348721806606915 with: {'act_func': 'tanh', 'first_layer_nodes': 256, 'n_layers': 10, 'opt': 'adam'}\n",
      "Means: 0.6798679828643799, Stdev: 0.0259868345848983 with: {'act_func': 'tanh', 'first_layer_nodes': 512, 'n_layers': 5, 'opt': 'adam'}\n",
      "Means: 0.6798679828643799, Stdev: 0.024697427683176756 with: {'act_func': 'tanh', 'first_layer_nodes': 512, 'n_layers': 10, 'opt': 'adam'}\n"
     ]
    }
   ],
   "source": [
    "# your grid_result object should be able to run in this code \n",
    "print(f\"Best: {grid_result.best_score_} using {grid_result.best_params_}\")\n",
    "means = grid_result.cv_results_['mean_test_score']\n",
    "stds = grid_result.cv_results_['std_test_score']\n",
    "params = grid_result.cv_results_['params']\n",
    "for mean, stdev, param in zip(means, stds, params):\n",
    "    print(f\"Means: {mean}, Stdev: {stdev} with: {param}\") "
   ]
  },
  {
   "cell_type": "markdown",
   "metadata": {},
   "source": [
    "# GridSearch No. 2"
   ]
  },
  {
   "cell_type": "code",
   "execution_count": 31,
   "metadata": {},
   "outputs": [],
   "source": [
    "model = KerasClassifier(build_fn = create_model)"
   ]
  },
  {
   "cell_type": "code",
   "execution_count": 32,
   "metadata": {},
   "outputs": [],
   "source": [
    "\"\"\"\n",
    "Because create_model as written requires 4 arguments,param_grid has to \n",
    "include 4 arguments even though it only tests 2 arguments for the GridSearch.\n",
    "\"\"\"\n",
    "param_grid = {'n_layers': [3, 7],\n",
    "              'first_layer_nodes': [32, 128],\n",
    "              'act_func': ['tanh'], \n",
    "              'opt': ['adam']\n",
    "             }"
   ]
  },
  {
   "cell_type": "code",
   "execution_count": 33,
   "metadata": {},
   "outputs": [
    {
     "name": "stdout",
     "output_type": "stream",
     "text": [
      "Epoch 1/5\n",
      "7/7 [==============================] - 0s 3ms/step - loss: 0.7365 - accuracy: 0.5248\n",
      "Epoch 2/5\n",
      "7/7 [==============================] - 0s 1ms/step - loss: 0.6938 - accuracy: 0.5396\n",
      "Epoch 3/5\n",
      "7/7 [==============================] - 0s 1ms/step - loss: 0.6684 - accuracy: 0.5396\n",
      "Epoch 4/5\n",
      "7/7 [==============================] - 0s 1ms/step - loss: 0.6561 - accuracy: 0.5941\n",
      "Epoch 5/5\n",
      "7/7 [==============================] - 0s 1000us/step - loss: 0.6476 - accuracy: 0.6634\n",
      "4/4 [==============================] - 0s 1ms/step - loss: 0.6535 - accuracy: 0.6931\n",
      "Epoch 1/5\n",
      "7/7 [==============================] - 0s 1ms/step - loss: 1.1091 - accuracy: 0.4604\n",
      "Epoch 2/5\n",
      "7/7 [==============================] - 0s 1ms/step - loss: 0.9686 - accuracy: 0.4604\n",
      "Epoch 3/5\n",
      "7/7 [==============================] - 0s 1000us/step - loss: 0.8638 - accuracy: 0.4653\n",
      "Epoch 4/5\n",
      "7/7 [==============================] - 0s 1ms/step - loss: 0.7756 - accuracy: 0.4752\n",
      "Epoch 5/5\n",
      "7/7 [==============================] - 0s 1ms/step - loss: 0.7111 - accuracy: 0.5495\n",
      "4/4 [==============================] - 0s 1ms/step - loss: 0.6778 - accuracy: 0.5545\n",
      "Epoch 1/5\n",
      "7/7 [==============================] - 0s 1ms/step - loss: 0.7000 - accuracy: 0.5743\n",
      "Epoch 2/5\n",
      "7/7 [==============================] - 0s 1ms/step - loss: 0.6909 - accuracy: 0.5743\n",
      "Epoch 3/5\n",
      "7/7 [==============================] - 0s 1ms/step - loss: 0.6860 - accuracy: 0.5743\n",
      "Epoch 4/5\n",
      "7/7 [==============================] - 0s 2ms/step - loss: 0.6824 - accuracy: 0.5050\n",
      "Epoch 5/5\n",
      "7/7 [==============================] - 0s 1ms/step - loss: 0.6765 - accuracy: 0.5644\n",
      "4/4 [==============================] - 0s 1ms/step - loss: 0.7232 - accuracy: 0.5050\n",
      "Epoch 1/5\n",
      "7/7 [==============================] - 0s 1ms/step - loss: 1.0627 - accuracy: 0.5198\n",
      "Epoch 2/5\n",
      "7/7 [==============================] - 0s 1ms/step - loss: 0.9509 - accuracy: 0.5198\n",
      "Epoch 3/5\n",
      "7/7 [==============================] - 0s 833us/step - loss: 0.8550 - accuracy: 0.5198\n",
      "Epoch 4/5\n",
      "7/7 [==============================] - 0s 1ms/step - loss: 0.8072 - accuracy: 0.5099\n",
      "Epoch 5/5\n",
      "7/7 [==============================] - 0s 1ms/step - loss: 0.7851 - accuracy: 0.4604\n",
      "4/4 [==============================] - 0s 1ms/step - loss: 0.7214 - accuracy: 0.5446\n",
      "Epoch 1/5\n",
      "7/7 [==============================] - 0s 2ms/step - loss: 0.8141 - accuracy: 0.4950\n",
      "Epoch 2/5\n",
      "7/7 [==============================] - 0s 2ms/step - loss: 0.7594 - accuracy: 0.5050\n",
      "Epoch 3/5\n",
      "7/7 [==============================] - 0s 1ms/step - loss: 0.7194 - accuracy: 0.5248\n",
      "Epoch 4/5\n",
      "7/7 [==============================] - 0s 1ms/step - loss: 0.6872 - accuracy: 0.5099\n",
      "Epoch 5/5\n",
      "7/7 [==============================] - 0s 2ms/step - loss: 0.6585 - accuracy: 0.5198\n",
      "4/4 [==============================] - 0s 984us/step - loss: 0.6819 - accuracy: 0.5248\n",
      "Epoch 1/5\n",
      "7/7 [==============================] - 0s 1ms/step - loss: 0.7658 - accuracy: 0.4257\n",
      "Epoch 2/5\n",
      "7/7 [==============================] - 0s 1ms/step - loss: 0.7106 - accuracy: 0.4257\n",
      "Epoch 3/5\n",
      "7/7 [==============================] - 0s 833us/step - loss: 0.6598 - accuracy: 0.6683\n",
      "Epoch 4/5\n",
      "7/7 [==============================] - 0s 2ms/step - loss: 0.6418 - accuracy: 0.6980\n",
      "Epoch 5/5\n",
      "7/7 [==============================] - 0s 1ms/step - loss: 0.6309 - accuracy: 0.6881\n",
      "4/4 [==============================] - 0s 2ms/step - loss: 0.6346 - accuracy: 0.6931\n",
      "Epoch 1/5\n",
      "7/7 [==============================] - 0s 1ms/step - loss: 0.7191 - accuracy: 0.4950\n",
      "Epoch 2/5\n",
      "7/7 [==============================] - 0s 1ms/step - loss: 0.6750 - accuracy: 0.6040\n",
      "Epoch 3/5\n",
      "7/7 [==============================] - 0s 1ms/step - loss: 0.6448 - accuracy: 0.5842\n",
      "Epoch 4/5\n",
      "7/7 [==============================] - 0s 2ms/step - loss: 0.6233 - accuracy: 0.6337\n",
      "Epoch 5/5\n",
      "7/7 [==============================] - 0s 2ms/step - loss: 0.6101 - accuracy: 0.6386\n",
      "4/4 [==============================] - 0s 1ms/step - loss: 0.6000 - accuracy: 0.6634\n",
      "Epoch 1/5\n",
      "7/7 [==============================] - 0s 3ms/step - loss: 0.6681 - accuracy: 0.5743\n",
      "Epoch 2/5\n",
      "7/7 [==============================] - 0s 1ms/step - loss: 0.6100 - accuracy: 0.6683\n",
      "Epoch 3/5\n",
      "7/7 [==============================] - 0s 1ms/step - loss: 0.6054 - accuracy: 0.6931\n",
      "Epoch 4/5\n",
      "7/7 [==============================] - 0s 1ms/step - loss: 0.5933 - accuracy: 0.7228\n",
      "Epoch 5/5\n",
      "7/7 [==============================] - 0s 1000us/step - loss: 0.5858 - accuracy: 0.6931\n",
      "4/4 [==============================] - 0s 1ms/step - loss: 0.6498 - accuracy: 0.6139\n",
      "Epoch 1/5\n",
      "7/7 [==============================] - 0s 3ms/step - loss: 0.7374 - accuracy: 0.4950\n",
      "Epoch 2/5\n",
      "7/7 [==============================] - 0s 1ms/step - loss: 0.6496 - accuracy: 0.6386\n",
      "Epoch 3/5\n",
      "7/7 [==============================] - 0s 1ms/step - loss: 0.6200 - accuracy: 0.6634\n",
      "Epoch 4/5\n",
      "7/7 [==============================] - 0s 2ms/step - loss: 0.6040 - accuracy: 0.7079\n",
      "Epoch 5/5\n",
      "7/7 [==============================] - 0s 1000us/step - loss: 0.5910 - accuracy: 0.6832\n",
      "4/4 [==============================] - 0s 999us/step - loss: 0.6103 - accuracy: 0.6535\n",
      "Epoch 1/5\n",
      "7/7 [==============================] - 0s 2ms/step - loss: 0.7209 - accuracy: 0.5248\n",
      "Epoch 2/5\n",
      "7/7 [==============================] - 0s 1ms/step - loss: 0.6588 - accuracy: 0.5941\n",
      "Epoch 3/5\n",
      "7/7 [==============================] - 0s 1ms/step - loss: 0.6152 - accuracy: 0.6436\n",
      "Epoch 4/5\n",
      "7/7 [==============================] - 0s 2ms/step - loss: 0.5994 - accuracy: 0.7030\n",
      "Epoch 5/5\n",
      "7/7 [==============================] - 0s 1ms/step - loss: 0.5814 - accuracy: 0.7129\n",
      "4/4 [==============================] - 0s 1ms/step - loss: 0.6057 - accuracy: 0.6733\n",
      "Epoch 1/5\n",
      "7/7 [==============================] - 0s 1ms/step - loss: 0.7978 - accuracy: 0.5198\n",
      "Epoch 2/5\n",
      "7/7 [==============================] - 0s 1ms/step - loss: 0.6471 - accuracy: 0.6188\n",
      "Epoch 3/5\n",
      "7/7 [==============================] - 0s 1ms/step - loss: 0.6225 - accuracy: 0.6485\n",
      "Epoch 4/5\n",
      "7/7 [==============================] - 0s 993us/step - loss: 0.5786 - accuracy: 0.7129\n",
      "Epoch 5/5\n",
      "7/7 [==============================] - 0s 1000us/step - loss: 0.5692 - accuracy: 0.7079\n",
      "4/4 [==============================] - 0s 1ms/step - loss: 0.6263 - accuracy: 0.5941\n",
      "Epoch 1/5\n",
      "7/7 [==============================] - 0s 1ms/step - loss: 1.0067 - accuracy: 0.4257\n",
      "Epoch 2/5\n",
      "7/7 [==============================] - 0s 1ms/step - loss: 0.6678 - accuracy: 0.6040\n",
      "Epoch 3/5\n",
      "7/7 [==============================] - 0s 1ms/step - loss: 0.6626 - accuracy: 0.6040\n",
      "Epoch 4/5\n",
      "7/7 [==============================] - 0s 1ms/step - loss: 0.6508 - accuracy: 0.6337\n",
      "Epoch 5/5\n",
      "7/7 [==============================] - 0s 1ms/step - loss: 0.6239 - accuracy: 0.6584\n",
      "4/4 [==============================] - 0s 1ms/step - loss: 0.6186 - accuracy: 0.6436\n",
      "Epoch 1/5\n",
      "10/10 [==============================] - 0s 1ms/step - loss: 0.8005 - accuracy: 0.5314\n",
      "Epoch 2/5\n",
      "10/10 [==============================] - 0s 1000us/step - loss: 0.6433 - accuracy: 0.6502\n",
      "Epoch 3/5\n",
      "10/10 [==============================] - 0s 1ms/step - loss: 0.6299 - accuracy: 0.6436\n",
      "Epoch 4/5\n",
      "10/10 [==============================] - 0s 1ms/step - loss: 0.6048 - accuracy: 0.6733\n",
      "Epoch 5/5\n",
      "10/10 [==============================] - 0s 1ms/step - loss: 0.5982 - accuracy: 0.6799\n"
     ]
    }
   ],
   "source": [
    "gs = GridSearchCV(estimator = model,\n",
    "                 param_grid = param_grid,\n",
    "                 n_jobs = 1,\n",
    "                 cv = 3)\n",
    "\n",
    "grid_result = gs.fit(X, Y, epochs = 5)"
   ]
  },
  {
   "cell_type": "code",
   "execution_count": 34,
   "metadata": {},
   "outputs": [
    {
     "name": "stdout",
     "output_type": "stream",
     "text": [
      "Best: 0.6435643434524536 using {'act_func': 'tanh', 'first_layer_nodes': 128, 'n_layers': 3, 'opt': 'adam'}\n",
      "Means: 0.5841584205627441, Stdev: 0.07961936955087746 with: {'act_func': 'tanh', 'first_layer_nodes': 32, 'n_layers': 3, 'opt': 'adam'}\n",
      "Means: 0.5874587496121725, Stdev: 0.07511421310425327 with: {'act_func': 'tanh', 'first_layer_nodes': 32, 'n_layers': 7, 'opt': 'adam'}\n",
      "Means: 0.6435643434524536, Stdev: 0.021388576788767738 with: {'act_func': 'tanh', 'first_layer_nodes': 128, 'n_layers': 3, 'opt': 'adam'}\n",
      "Means: 0.636963685353597, Stdev: 0.032671590713967885 with: {'act_func': 'tanh', 'first_layer_nodes': 128, 'n_layers': 7, 'opt': 'adam'}\n"
     ]
    }
   ],
   "source": [
    "print(f\"Best: {grid_result.best_score_} using {grid_result.best_params_}\")\n",
    "means = grid_result.cv_results_['mean_test_score']\n",
    "stds = grid_result.cv_results_['std_test_score']\n",
    "params = grid_result.cv_results_['params']\n",
    "for mean, stdev, param in zip(means, stds, params):\n",
    "    print(f\"Means: {mean}, Stdev: {stdev} with: {param}\")"
   ]
  },
  {
   "cell_type": "markdown",
   "metadata": {},
   "source": [
    "# GridSearch No. 3"
   ]
  },
  {
   "cell_type": "code",
   "execution_count": 35,
   "metadata": {},
   "outputs": [],
   "source": [
    "model = KerasClassifier(build_fn = create_model)"
   ]
  },
  {
   "cell_type": "code",
   "execution_count": 36,
   "metadata": {},
   "outputs": [],
   "source": [
    "\"\"\"\n",
    "Because create_model as written requires 4 arguments,param_grid has to \n",
    "include 4 arguments even though it only tests 2 arguments for the GridSearch.\n",
    "\"\"\"\n",
    "param_grid = {'n_layers': [5, 25],\n",
    "              'first_layer_nodes': [10, 300],\n",
    "              'act_func': ['tanh'], \n",
    "              'opt': ['adam']\n",
    "             }"
   ]
  },
  {
   "cell_type": "code",
   "execution_count": 37,
   "metadata": {},
   "outputs": [
    {
     "name": "stdout",
     "output_type": "stream",
     "text": [
      "Epoch 1/5\n",
      "7/7 [==============================] - 0s 1ms/step - loss: 1.5073 - accuracy: 0.5198\n",
      "Epoch 2/5\n",
      "7/7 [==============================] - 0s 1ms/step - loss: 1.4752 - accuracy: 0.5198\n",
      "Epoch 3/5\n",
      "7/7 [==============================] - 0s 1ms/step - loss: 1.4430 - accuracy: 0.5198\n",
      "Epoch 4/5\n",
      "7/7 [==============================] - 0s 2ms/step - loss: 1.4108 - accuracy: 0.5198\n",
      "Epoch 5/5\n",
      "7/7 [==============================] - 0s 1ms/step - loss: 1.3794 - accuracy: 0.5198\n",
      "4/4 [==============================] - 0s 988us/step - loss: 1.1622 - accuracy: 0.5941\n",
      "Epoch 1/5\n",
      "7/7 [==============================] - 0s 1ms/step - loss: 0.8673 - accuracy: 0.5396\n",
      "Epoch 2/5\n",
      "7/7 [==============================] - 0s 1ms/step - loss: 0.8474 - accuracy: 0.5396\n",
      "Epoch 3/5\n",
      "7/7 [==============================] - 0s 1ms/step - loss: 0.8296 - accuracy: 0.5396\n",
      "Epoch 4/5\n",
      "7/7 [==============================] - 0s 1ms/step - loss: 0.8141 - accuracy: 0.5396\n",
      "Epoch 5/5\n",
      "7/7 [==============================] - 0s 1ms/step - loss: 0.8010 - accuracy: 0.5396\n",
      "4/4 [==============================] - 0s 1ms/step - loss: 0.7653 - accuracy: 0.5545\n",
      "Epoch 1/5\n",
      "7/7 [==============================] - 0s 1ms/step - loss: 0.6887 - accuracy: 0.5743\n",
      "Epoch 2/5\n",
      "7/7 [==============================] - 0s 1ms/step - loss: 0.6866 - accuracy: 0.5743\n",
      "Epoch 3/5\n",
      "7/7 [==============================] - 0s 941us/step - loss: 0.6848 - accuracy: 0.5743\n",
      "Epoch 4/5\n",
      "7/7 [==============================] - 0s 1ms/step - loss: 0.6837 - accuracy: 0.5743\n",
      "Epoch 5/5\n",
      "7/7 [==============================] - 0s 1ms/step - loss: 0.6825 - accuracy: 0.5743\n",
      "4/4 [==============================] - 0s 1ms/step - loss: 0.7147 - accuracy: 0.4851\n",
      "Epoch 1/5\n",
      "7/7 [==============================] - 0s 1ms/step - loss: 0.7320 - accuracy: 0.5198\n",
      "Epoch 2/5\n",
      "7/7 [==============================] - 0s 1ms/step - loss: 0.7238 - accuracy: 0.5198\n",
      "Epoch 3/5\n",
      "7/7 [==============================] - 0s 1ms/step - loss: 0.7166 - accuracy: 0.5198\n",
      "Epoch 4/5\n",
      "7/7 [==============================] - 0s 1ms/step - loss: 0.7104 - accuracy: 0.5198\n",
      "Epoch 5/5\n",
      "7/7 [==============================] - 0s 2ms/step - loss: 0.7052 - accuracy: 0.5198\n",
      "4/4 [==============================] - 0s 1000us/step - loss: 0.6753 - accuracy: 0.5941\n",
      "Epoch 1/5\n",
      "7/7 [==============================] - 0s 1ms/step - loss: 0.7165 - accuracy: 0.4604\n",
      "Epoch 2/5\n",
      "7/7 [==============================] - 0s 1ms/step - loss: 0.7008 - accuracy: 0.4604\n",
      "Epoch 3/5\n",
      "7/7 [==============================] - 0s 1ms/step - loss: 0.6906 - accuracy: 0.4604\n",
      "Epoch 4/5\n",
      "7/7 [==============================] - 0s 1ms/step - loss: 0.6831 - accuracy: 0.4604\n",
      "Epoch 5/5\n",
      "7/7 [==============================] - 0s 2ms/step - loss: 0.6742 - accuracy: 0.4604\n",
      "4/4 [==============================] - 0s 1ms/step - loss: 0.6760 - accuracy: 0.4455\n",
      "Epoch 1/5\n",
      "7/7 [==============================] - 0s 1ms/step - loss: 0.8457 - accuracy: 0.4257\n",
      "Epoch 2/5\n",
      "7/7 [==============================] - 0s 1ms/step - loss: 0.7555 - accuracy: 0.4109\n",
      "Epoch 3/5\n",
      "7/7 [==============================] - 0s 1ms/step - loss: 0.7089 - accuracy: 0.4802\n",
      "Epoch 4/5\n",
      "7/7 [==============================] - 0s 1ms/step - loss: 0.6956 - accuracy: 0.5149\n",
      "Epoch 5/5\n",
      "7/7 [==============================] - 0s 1ms/step - loss: 0.6921 - accuracy: 0.5495\n",
      "4/4 [==============================] - 0s 998us/step - loss: 0.7210 - accuracy: 0.5644\n",
      "Epoch 1/5\n",
      "7/7 [==============================] - 0s 1ms/step - loss: 0.7038 - accuracy: 0.6040\n",
      "Epoch 2/5\n",
      "7/7 [==============================] - 0s 1ms/step - loss: 0.6446 - accuracy: 0.6535\n",
      "Epoch 3/5\n",
      "7/7 [==============================] - 0s 1ms/step - loss: 0.6421 - accuracy: 0.6188\n",
      "Epoch 4/5\n",
      "7/7 [==============================] - 0s 2ms/step - loss: 0.5970 - accuracy: 0.6782\n",
      "Epoch 5/5\n",
      "7/7 [==============================] - 0s 1ms/step - loss: 0.5871 - accuracy: 0.6782\n",
      "4/4 [==============================] - 0s 1ms/step - loss: 0.6227 - accuracy: 0.6535\n",
      "Epoch 1/5\n",
      "7/7 [==============================] - 0s 1ms/step - loss: 0.8172 - accuracy: 0.4356\n",
      "Epoch 2/5\n",
      "7/7 [==============================] - 0s 2ms/step - loss: 0.6016 - accuracy: 0.6733\n",
      "Epoch 3/5\n",
      "7/7 [==============================] - 0s 1ms/step - loss: 0.5893 - accuracy: 0.7079\n",
      "Epoch 4/5\n",
      "7/7 [==============================] - 0s 1ms/step - loss: 0.5687 - accuracy: 0.7030\n",
      "Epoch 5/5\n",
      "7/7 [==============================] - 0s 1ms/step - loss: 0.5480 - accuracy: 0.7178\n",
      "4/4 [==============================] - 0s 1ms/step - loss: 0.6480 - accuracy: 0.6337\n",
      "Epoch 1/5\n",
      "7/7 [==============================] - 0s 2ms/step - loss: 0.8485 - accuracy: 0.5198\n",
      "Epoch 2/5\n",
      "7/7 [==============================] - 0s 1ms/step - loss: 0.6813 - accuracy: 0.6436\n",
      "Epoch 3/5\n",
      "7/7 [==============================] - 0s 1ms/step - loss: 0.6222 - accuracy: 0.6683\n",
      "Epoch 4/5\n",
      "7/7 [==============================] - 0s 2ms/step - loss: 0.6051 - accuracy: 0.6881\n",
      "Epoch 5/5\n",
      "7/7 [==============================] - 0s 2ms/step - loss: 0.5837 - accuracy: 0.6881\n",
      "4/4 [==============================] - 0s 3ms/step - loss: 0.5908 - accuracy: 0.6634\n",
      "Epoch 1/5\n",
      "7/7 [==============================] - 0s 1ms/step - loss: 0.6837 - accuracy: 0.5842\n",
      "Epoch 2/5\n",
      "7/7 [==============================] - 0s 2ms/step - loss: 0.6158 - accuracy: 0.6782\n",
      "Epoch 3/5\n",
      "7/7 [==============================] - 0s 1ms/step - loss: 0.5907 - accuracy: 0.6782\n",
      "Epoch 4/5\n",
      "7/7 [==============================] - 0s 1ms/step - loss: 0.5778 - accuracy: 0.6881\n",
      "Epoch 5/5\n",
      "7/7 [==============================] - 0s 1ms/step - loss: 0.5613 - accuracy: 0.6931\n",
      "4/4 [==============================] - 0s 1ms/step - loss: 0.6142 - accuracy: 0.6634\n",
      "Epoch 1/5\n",
      "7/7 [==============================] - 0s 1ms/step - loss: 0.6909 - accuracy: 0.5545\n",
      "Epoch 2/5\n",
      "7/7 [==============================] - 0s 1ms/step - loss: 0.5928 - accuracy: 0.6634\n",
      "Epoch 3/5\n",
      "7/7 [==============================] - 0s 1ms/step - loss: 0.5704 - accuracy: 0.7228\n",
      "Epoch 4/5\n",
      "7/7 [==============================] - 0s 1ms/step - loss: 0.5642 - accuracy: 0.6634\n",
      "Epoch 5/5\n",
      "7/7 [==============================] - 0s 1ms/step - loss: 0.5666 - accuracy: 0.7030\n",
      "4/4 [==============================] - 0s 2ms/step - loss: 0.6250 - accuracy: 0.6238\n",
      "Epoch 1/5\n",
      "7/7 [==============================] - 0s 1ms/step - loss: 0.9176 - accuracy: 0.4703\n",
      "Epoch 2/5\n",
      "7/7 [==============================] - 0s 998us/step - loss: 0.6961 - accuracy: 0.6040\n",
      "Epoch 3/5\n",
      "7/7 [==============================] - 0s 1ms/step - loss: 0.6235 - accuracy: 0.6337\n",
      "Epoch 4/5\n",
      "7/7 [==============================] - 0s 1ms/step - loss: 0.6066 - accuracy: 0.6584\n",
      "Epoch 5/5\n",
      "7/7 [==============================] - 0s 1ms/step - loss: 0.6007 - accuracy: 0.6634\n",
      "4/4 [==============================] - 0s 1ms/step - loss: 0.5900 - accuracy: 0.6634\n",
      "Epoch 1/5\n",
      "10/10 [==============================] - 0s 2ms/step - loss: 0.7032 - accuracy: 0.6106\n",
      "Epoch 2/5\n",
      "10/10 [==============================] - 0s 1ms/step - loss: 0.6176 - accuracy: 0.6634\n",
      "Epoch 3/5\n",
      "10/10 [==============================] - 0s 1000us/step - loss: 0.5940 - accuracy: 0.6601\n",
      "Epoch 4/5\n",
      "10/10 [==============================] - 0s 1ms/step - loss: 0.5871 - accuracy: 0.6964\n",
      "Epoch 5/5\n",
      "10/10 [==============================] - 0s 1ms/step - loss: 0.5780 - accuracy: 0.6931\n"
     ]
    }
   ],
   "source": [
    "gs = GridSearchCV(estimator = model,\n",
    "                 param_grid = param_grid,\n",
    "                 n_jobs = 1,\n",
    "                 cv = 3)\n",
    "\n",
    "grid_result = gs.fit(X, Y, epochs = 5)"
   ]
  },
  {
   "cell_type": "code",
   "execution_count": 38,
   "metadata": {},
   "outputs": [
    {
     "name": "stdout",
     "output_type": "stream",
     "text": [
      "Best: 0.6501650015513102 using {'act_func': 'tanh', 'first_layer_nodes': 300, 'n_layers': 5, 'opt': 'adam'}\n",
      "Means: 0.5445544620354971, Stdev: 0.0450105003472179 with: {'act_func': 'tanh', 'first_layer_nodes': 10, 'n_layers': 5, 'opt': 'adam'}\n",
      "Means: 0.5346534649531046, Stdev: 0.06416575795789252 with: {'act_func': 'tanh', 'first_layer_nodes': 10, 'n_layers': 25, 'opt': 'adam'}\n",
      "Means: 0.6501650015513102, Stdev: 0.012348700566578033 with: {'act_func': 'tanh', 'first_layer_nodes': 300, 'n_layers': 5, 'opt': 'adam'}\n",
      "Means: 0.6501650015513102, Stdev: 0.01866948040798165 with: {'act_func': 'tanh', 'first_layer_nodes': 300, 'n_layers': 25, 'opt': 'adam'}\n"
     ]
    }
   ],
   "source": [
    "print(f\"Best: {grid_result.best_score_} using {grid_result.best_params_}\")\n",
    "means = grid_result.cv_results_['mean_test_score']\n",
    "stds = grid_result.cv_results_['std_test_score']\n",
    "params = grid_result.cv_results_['params']\n",
    "for mean, stdev, param in zip(means, stds, params):\n",
    "    print(f\"Means: {mean}, Stdev: {stdev} with: {param}\")"
   ]
  },
  {
   "cell_type": "markdown",
   "metadata": {},
   "source": [
    "# GridSearch No. 4"
   ]
  },
  {
   "cell_type": "code",
   "execution_count": 39,
   "metadata": {},
   "outputs": [],
   "source": [
    "model = KerasClassifier(build_fn = create_model)"
   ]
  },
  {
   "cell_type": "code",
   "execution_count": 40,
   "metadata": {},
   "outputs": [],
   "source": [
    "\"\"\"\n",
    "Because create_model as written requires 4 arguments,param_grid has to \n",
    "include 4 arguments even though it only tests 2 arguments for the GridSearch.\n",
    "\"\"\"\n",
    "param_grid = {'n_layers': [10],\n",
    "              'first_layer_nodes': [500],\n",
    "              'act_func': ['relu', 'elu'], \n",
    "              'opt': ['Nadam', 'RMSprop']\n",
    "             }"
   ]
  },
  {
   "cell_type": "code",
   "execution_count": 41,
   "metadata": {},
   "outputs": [
    {
     "name": "stdout",
     "output_type": "stream",
     "text": [
      "Epoch 1/5\n",
      "7/7 [==============================] - 1s 1ms/step - loss: 2.9036 - accuracy: 0.4406\n",
      "Epoch 2/5\n",
      "7/7 [==============================] - 0s 2ms/step - loss: 1.8364 - accuracy: 0.4554\n",
      "Epoch 3/5\n",
      "7/7 [==============================] - 0s 2ms/step - loss: 1.0142 - accuracy: 0.5990\n",
      "Epoch 4/5\n",
      "7/7 [==============================] - 0s 1ms/step - loss: 1.3057 - accuracy: 0.5743\n",
      "Epoch 5/5\n",
      "7/7 [==============================] - 0s 1ms/step - loss: 1.0029 - accuracy: 0.6287\n",
      "4/4 [==============================] - 0s 987us/step - loss: 1.3202 - accuracy: 0.5248\n",
      "Epoch 1/5\n",
      "7/7 [==============================] - 0s 2ms/step - loss: 3.9136 - accuracy: 0.4604\n",
      "Epoch 2/5\n",
      "7/7 [==============================] - 0s 2ms/step - loss: 1.7221 - accuracy: 0.5396\n",
      "Epoch 3/5\n",
      "7/7 [==============================] - 0s 1ms/step - loss: 1.0673 - accuracy: 0.5891\n",
      "Epoch 4/5\n",
      "7/7 [==============================] - 0s 2ms/step - loss: 0.9174 - accuracy: 0.6931\n",
      "Epoch 5/5\n",
      "7/7 [==============================] - 0s 2ms/step - loss: 1.4849 - accuracy: 0.5743\n",
      "4/4 [==============================] - 0s 1ms/step - loss: 0.7029 - accuracy: 0.6931\n",
      "Epoch 1/5\n",
      "7/7 [==============================] - 0s 1ms/step - loss: 2.2708 - accuracy: 0.6089\n",
      "Epoch 2/5\n",
      "7/7 [==============================] - 0s 1ms/step - loss: 1.7737 - accuracy: 0.5198\n",
      "Epoch 3/5\n",
      "7/7 [==============================] - 0s 1ms/step - loss: 1.2163 - accuracy: 0.5842\n",
      "Epoch 4/5\n",
      "7/7 [==============================] - 0s 999us/step - loss: 1.2958 - accuracy: 0.6782\n",
      "Epoch 5/5\n",
      "7/7 [==============================] - 0s 2ms/step - loss: 1.3552 - accuracy: 0.6238\n",
      "4/4 [==============================] - 0s 995us/step - loss: 1.4962 - accuracy: 0.5545\n",
      "Epoch 1/5\n",
      "7/7 [==============================] - 0s 1ms/step - loss: 5.4372 - accuracy: 0.5297\n",
      "Epoch 2/5\n",
      "7/7 [==============================] - 0s 2ms/step - loss: 3.0555 - accuracy: 0.4752\n",
      "Epoch 3/5\n",
      "7/7 [==============================] - 0s 1ms/step - loss: 2.4258 - accuracy: 0.5099\n",
      "Epoch 4/5\n",
      "7/7 [==============================] - 0s 1ms/step - loss: 2.6798 - accuracy: 0.4703\n",
      "Epoch 5/5\n",
      "7/7 [==============================] - 0s 2ms/step - loss: 1.2771 - accuracy: 0.6485\n",
      "4/4 [==============================] - 0s 1ms/step - loss: 1.3209 - accuracy: 0.6238\n",
      "Epoch 1/5\n",
      "7/7 [==============================] - 0s 1ms/step - loss: 5.2160 - accuracy: 0.5990\n",
      "Epoch 2/5\n",
      "7/7 [==============================] - 0s 1ms/step - loss: 4.4873 - accuracy: 0.4703\n",
      "Epoch 3/5\n",
      "7/7 [==============================] - 0s 2ms/step - loss: 1.9020 - accuracy: 0.5941\n",
      "Epoch 4/5\n",
      "7/7 [==============================] - 0s 1ms/step - loss: 2.2071 - accuracy: 0.5347\n",
      "Epoch 5/5\n",
      "7/7 [==============================] - 0s 1ms/step - loss: 2.3446 - accuracy: 0.5347\n",
      "4/4 [==============================] - 0s 1ms/step - loss: 0.9030 - accuracy: 0.6733\n",
      "Epoch 1/5\n",
      "7/7 [==============================] - 0s 1ms/step - loss: 5.3986 - accuracy: 0.5446\n",
      "Epoch 2/5\n",
      "7/7 [==============================] - 0s 1ms/step - loss: 3.0152 - accuracy: 0.5545\n",
      "Epoch 3/5\n",
      "7/7 [==============================] - 0s 1ms/step - loss: 3.6075 - accuracy: 0.4950\n",
      "Epoch 4/5\n",
      "7/7 [==============================] - 0s 2ms/step - loss: 2.2164 - accuracy: 0.5594\n",
      "Epoch 5/5\n",
      "7/7 [==============================] - 0s 1ms/step - loss: 2.8992 - accuracy: 0.5149\n",
      "4/4 [==============================] - 0s 1ms/step - loss: 1.4820 - accuracy: 0.6238\n",
      "Epoch 1/5\n",
      "7/7 [==============================] - 0s 1ms/step - loss: 2.2763 - accuracy: 0.5198\n",
      "Epoch 2/5\n",
      "7/7 [==============================] - 0s 2ms/step - loss: 1.3687 - accuracy: 0.5693\n",
      "Epoch 3/5\n",
      "7/7 [==============================] - 0s 1ms/step - loss: 1.3370 - accuracy: 0.6089\n",
      "Epoch 4/5\n",
      "7/7 [==============================] - 0s 1ms/step - loss: 1.3417 - accuracy: 0.5693\n",
      "Epoch 5/5\n",
      "7/7 [==============================] - 0s 2ms/step - loss: 1.3323 - accuracy: 0.6089\n",
      "4/4 [==============================] - 0s 1ms/step - loss: 1.3015 - accuracy: 0.6436\n",
      "Epoch 1/5\n",
      "7/7 [==============================] - 1s 3ms/step - loss: 3.8040 - accuracy: 0.4505\n",
      "Epoch 2/5\n",
      "7/7 [==============================] - 0s 2ms/step - loss: 1.1498 - accuracy: 0.5990\n",
      "Epoch 3/5\n",
      "7/7 [==============================] - 0s 1ms/step - loss: 1.9540 - accuracy: 0.5000\n",
      "Epoch 4/5\n",
      "7/7 [==============================] - 0s 2ms/step - loss: 1.1590 - accuracy: 0.6584\n",
      "Epoch 5/5\n",
      "7/7 [==============================] - 0s 2ms/step - loss: 0.9245 - accuracy: 0.6634\n",
      "4/4 [==============================] - 0s 1ms/step - loss: 1.4504 - accuracy: 0.6733\n",
      "Epoch 1/5\n",
      "7/7 [==============================] - 0s 3ms/step - loss: 3.5151 - accuracy: 0.4257\n",
      "Epoch 2/5\n",
      "7/7 [==============================] - 0s 2ms/step - loss: 1.1857 - accuracy: 0.6139\n",
      "Epoch 3/5\n",
      "7/7 [==============================] - 0s 1ms/step - loss: 1.5442 - accuracy: 0.5446\n",
      "Epoch 4/5\n",
      "7/7 [==============================] - 0s 1ms/step - loss: 1.4212 - accuracy: 0.5743\n",
      "Epoch 5/5\n",
      "7/7 [==============================] - 0s 1ms/step - loss: 1.4664 - accuracy: 0.5545\n",
      "4/4 [==============================] - 0s 1ms/step - loss: 1.2279 - accuracy: 0.6040\n",
      "Epoch 1/5\n",
      "7/7 [==============================] - 0s 1ms/step - loss: 7.6705 - accuracy: 0.4554\n",
      "Epoch 2/5\n",
      "7/7 [==============================] - 0s 1ms/step - loss: 3.5296 - accuracy: 0.5594\n",
      "Epoch 3/5\n",
      "7/7 [==============================] - 0s 2ms/step - loss: 2.3160 - accuracy: 0.5990\n",
      "Epoch 4/5\n",
      "7/7 [==============================] - 0s 1ms/step - loss: 3.1072 - accuracy: 0.5347\n",
      "Epoch 5/5\n",
      "7/7 [==============================] - 0s 1ms/step - loss: 2.4274 - accuracy: 0.5644\n",
      "4/4 [==============================] - 0s 1ms/step - loss: 2.1955 - accuracy: 0.5842\n",
      "Epoch 1/5\n",
      "7/7 [==============================] - 0s 2ms/step - loss: 6.3746 - accuracy: 0.4307\n",
      "Epoch 2/5\n",
      "7/7 [==============================] - 0s 1ms/step - loss: 2.0493 - accuracy: 0.5644\n",
      "Epoch 3/5\n",
      "7/7 [==============================] - 0s 1ms/step - loss: 2.2809 - accuracy: 0.6040\n",
      "Epoch 4/5\n",
      "7/7 [==============================] - 0s 1ms/step - loss: 2.3181 - accuracy: 0.5248\n",
      "Epoch 5/5\n",
      "7/7 [==============================] - 0s 1ms/step - loss: 2.5633 - accuracy: 0.4851\n",
      "4/4 [==============================] - 0s 1ms/step - loss: 1.0770 - accuracy: 0.6139\n",
      "Epoch 1/5\n",
      "7/7 [==============================] - 0s 1ms/step - loss: 7.0746 - accuracy: 0.4455\n",
      "Epoch 2/5\n",
      "7/7 [==============================] - 0s 1ms/step - loss: 3.1892 - accuracy: 0.5297\n",
      "Epoch 3/5\n",
      "7/7 [==============================] - 0s 1ms/step - loss: 2.7900 - accuracy: 0.5446\n",
      "Epoch 4/5\n",
      "7/7 [==============================] - 0s 2ms/step - loss: 2.6314 - accuracy: 0.5099\n",
      "Epoch 5/5\n",
      "7/7 [==============================] - 0s 1ms/step - loss: 1.5250 - accuracy: 0.5644\n",
      "4/4 [==============================] - 0s 1ms/step - loss: 1.5091 - accuracy: 0.5644\n",
      "Epoch 1/5\n",
      "10/10 [==============================] - 0s 3ms/step - loss: 4.6581 - accuracy: 0.5215\n",
      "Epoch 2/5\n",
      "10/10 [==============================] - 0s 889us/step - loss: 3.1343 - accuracy: 0.5017\n",
      "Epoch 3/5\n",
      "10/10 [==============================] - 0s 980us/step - loss: 1.7676 - accuracy: 0.5677\n",
      "Epoch 4/5\n",
      "10/10 [==============================] - 0s 1ms/step - loss: 2.2056 - accuracy: 0.5677\n",
      "Epoch 5/5\n",
      "10/10 [==============================] - 0s 1ms/step - loss: 2.1423 - accuracy: 0.5347\n"
     ]
    }
   ],
   "source": [
    "gs = GridSearchCV(estimator = model,\n",
    "                 param_grid = param_grid,\n",
    "                 n_jobs = 1,\n",
    "                 cv = 3)\n",
    "\n",
    "grid_result = gs.fit(X, Y, epochs = 5)"
   ]
  },
  {
   "cell_type": "code",
   "execution_count": 42,
   "metadata": {},
   "outputs": [
    {
     "name": "stdout",
     "output_type": "stream",
     "text": [
      "Best: 0.6402640144030253 using {'act_func': 'relu', 'first_layer_nodes': 500, 'n_layers': 10, 'opt': 'RMSprop'}\n",
      "Means: 0.5907590786616007, Stdev: 0.07335347903298906 with: {'act_func': 'relu', 'first_layer_nodes': 500, 'n_layers': 10, 'opt': 'Nadam'}\n",
      "Means: 0.6402640144030253, Stdev: 0.023336850509977063 with: {'act_func': 'relu', 'first_layer_nodes': 500, 'n_layers': 10, 'opt': 'RMSprop'}\n",
      "Means: 0.6402640144030253, Stdev: 0.028390503971451875 with: {'act_func': 'elu', 'first_layer_nodes': 500, 'n_layers': 10, 'opt': 'Nadam'}\n",
      "Means: 0.5874587496121725, Stdev: 0.02034459460670113 with: {'act_func': 'elu', 'first_layer_nodes': 500, 'n_layers': 10, 'opt': 'RMSprop'}\n"
     ]
    }
   ],
   "source": [
    "print(f\"Best: {grid_result.best_score_} using {grid_result.best_params_}\")\n",
    "means = grid_result.cv_results_['mean_test_score']\n",
    "stds = grid_result.cv_results_['std_test_score']\n",
    "params = grid_result.cv_results_['params']\n",
    "for mean, stdev, param in zip(means, stds, params):\n",
    "    print(f\"Means: {mean}, Stdev: {stdev} with: {param}\")"
   ]
  },
  {
   "cell_type": "markdown",
   "metadata": {},
   "source": [
    "# GridSearch No. 5"
   ]
  },
  {
   "cell_type": "code",
   "execution_count": 43,
   "metadata": {},
   "outputs": [],
   "source": [
    "model = KerasClassifier(build_fn = create_model)"
   ]
  },
  {
   "cell_type": "code",
   "execution_count": 44,
   "metadata": {},
   "outputs": [],
   "source": [
    "\"\"\"\n",
    "Because create_model as written requires 4 arguments,param_grid has to \n",
    "include 4 arguments even though it only tests 2 arguments for the GridSearch.\n",
    "\"\"\"\n",
    "param_grid = {'n_layers': [10],\n",
    "              'first_layer_nodes': [500],\n",
    "              'act_func': ['relu', 'selu'], \n",
    "              'opt': ['Ftrl', 'Adamax']\n",
    "             }"
   ]
  },
  {
   "cell_type": "code",
   "execution_count": 45,
   "metadata": {},
   "outputs": [
    {
     "name": "stdout",
     "output_type": "stream",
     "text": [
      "Epoch 1/5\n",
      "7/7 [==============================] - 0s 2ms/step - loss: 1.5212 - accuracy: 0.5495\n",
      "Epoch 2/5\n",
      "7/7 [==============================] - 0s 2ms/step - loss: 1.3956 - accuracy: 0.4901\n",
      "Epoch 3/5\n",
      "7/7 [==============================] - 0s 1ms/step - loss: 0.8547 - accuracy: 0.5644\n",
      "Epoch 4/5\n",
      "7/7 [==============================] - 0s 1ms/step - loss: 0.8289 - accuracy: 0.5545\n",
      "Epoch 5/5\n",
      "7/7 [==============================] - 0s 2ms/step - loss: 0.7192 - accuracy: 0.6139\n",
      "4/4 [==============================] - 0s 1ms/step - loss: 0.6369 - accuracy: 0.6634\n",
      "Epoch 1/5\n",
      "7/7 [==============================] - 0s 2ms/step - loss: 4.2220 - accuracy: 0.3960\n",
      "Epoch 2/5\n",
      "7/7 [==============================] - 0s 2ms/step - loss: 0.9767 - accuracy: 0.4802\n",
      "Epoch 3/5\n",
      "7/7 [==============================] - 0s 1ms/step - loss: 1.0166 - accuracy: 0.4851\n",
      "Epoch 4/5\n",
      "7/7 [==============================] - 0s 1ms/step - loss: 0.8543 - accuracy: 0.5198\n",
      "Epoch 5/5\n",
      "7/7 [==============================] - 0s 2ms/step - loss: 0.6990 - accuracy: 0.5644\n",
      "4/4 [==============================] - 0s 1ms/step - loss: 1.0044 - accuracy: 0.5644\n",
      "Epoch 1/5\n",
      "7/7 [==============================] - 0s 1ms/step - loss: 5.6643 - accuracy: 0.5545\n",
      "Epoch 2/5\n",
      "7/7 [==============================] - 0s 2ms/step - loss: 0.8157 - accuracy: 0.5446\n",
      "Epoch 3/5\n",
      "7/7 [==============================] - 0s 2ms/step - loss: 0.7005 - accuracy: 0.5693\n",
      "Epoch 4/5\n",
      "7/7 [==============================] - 0s 1ms/step - loss: 0.6710 - accuracy: 0.6040\n",
      "Epoch 5/5\n",
      "7/7 [==============================] - 0s 1ms/step - loss: 0.7470 - accuracy: 0.5297\n",
      "4/4 [==============================] - 0s 4ms/step - loss: 0.6244 - accuracy: 0.6238\n",
      "Epoch 1/5\n",
      "7/7 [==============================] - 0s 1ms/step - loss: 2.9249 - accuracy: 0.4802\n",
      "Epoch 2/5\n",
      "7/7 [==============================] - 0s 2ms/step - loss: 1.3149 - accuracy: 0.5594\n",
      "Epoch 3/5\n",
      "7/7 [==============================] - 0s 1ms/step - loss: 1.0738 - accuracy: 0.6238\n",
      "Epoch 4/5\n",
      "7/7 [==============================] - 0s 1ms/step - loss: 0.8280 - accuracy: 0.6535\n",
      "Epoch 5/5\n",
      "7/7 [==============================] - 0s 2ms/step - loss: 0.6641 - accuracy: 0.7475\n",
      "4/4 [==============================] - 0s 1ms/step - loss: 0.6572 - accuracy: 0.7030\n",
      "Epoch 1/5\n",
      "7/7 [==============================] - 0s 1ms/step - loss: 2.2879 - accuracy: 0.4802\n",
      "Epoch 2/5\n",
      "7/7 [==============================] - 0s 1ms/step - loss: 0.7540 - accuracy: 0.6040\n",
      "Epoch 3/5\n",
      "7/7 [==============================] - 0s 1ms/step - loss: 0.6591 - accuracy: 0.6386\n",
      "Epoch 4/5\n",
      "7/7 [==============================] - 0s 2ms/step - loss: 0.6483 - accuracy: 0.6980\n",
      "Epoch 5/5\n",
      "7/7 [==============================] - 0s 1ms/step - loss: 0.6321 - accuracy: 0.7030\n",
      "4/4 [==============================] - 0s 5ms/step - loss: 0.8202 - accuracy: 0.6832\n",
      "Epoch 1/5\n",
      "7/7 [==============================] - 0s 1ms/step - loss: 4.1986 - accuracy: 0.4752\n",
      "Epoch 2/5\n",
      "7/7 [==============================] - 0s 1ms/step - loss: 1.4689 - accuracy: 0.5792\n",
      "Epoch 3/5\n",
      "7/7 [==============================] - 0s 1ms/step - loss: 1.2520 - accuracy: 0.4851\n",
      "Epoch 4/5\n",
      "7/7 [==============================] - 0s 2ms/step - loss: 1.2370 - accuracy: 0.5891\n",
      "Epoch 5/5\n",
      "7/7 [==============================] - 0s 1ms/step - loss: 0.8744 - accuracy: 0.6089\n",
      "4/4 [==============================] - 0s 5ms/step - loss: 0.8273 - accuracy: 0.5941\n",
      "Epoch 1/5\n",
      "7/7 [==============================] - 0s 1ms/step - loss: 3.2299 - accuracy: 0.4950\n",
      "Epoch 2/5\n",
      "7/7 [==============================] - 0s 2ms/step - loss: 1.8691 - accuracy: 0.4356\n",
      "Epoch 3/5\n",
      "7/7 [==============================] - 0s 1ms/step - loss: 1.3412 - accuracy: 0.4604\n",
      "Epoch 4/5\n",
      "7/7 [==============================] - 0s 2ms/step - loss: 0.9553 - accuracy: 0.4653\n",
      "Epoch 5/5\n",
      "7/7 [==============================] - 0s 2ms/step - loss: 0.9039 - accuracy: 0.5248\n",
      "4/4 [==============================] - 0s 3ms/step - loss: 1.1081 - accuracy: 0.4158\n",
      "Epoch 1/5\n",
      "7/7 [==============================] - 0s 1ms/step - loss: 2.1244 - accuracy: 0.4604\n",
      "Epoch 2/5\n",
      "7/7 [==============================] - 0s 1ms/step - loss: 1.2223 - accuracy: 0.4604\n",
      "Epoch 3/5\n",
      "7/7 [==============================] - 0s 1ms/step - loss: 0.8435 - accuracy: 0.4950\n",
      "Epoch 4/5\n",
      "7/7 [==============================] - 0s 2ms/step - loss: 0.7540 - accuracy: 0.6188\n",
      "Epoch 5/5\n",
      "7/7 [==============================] - 0s 1ms/step - loss: 0.6559 - accuracy: 0.5644\n",
      "4/4 [==============================] - 0s 2ms/step - loss: 0.6214 - accuracy: 0.6733\n",
      "Epoch 1/5\n",
      "7/7 [==============================] - 0s 2ms/step - loss: 11.8286 - accuracy: 0.4406\n",
      "Epoch 2/5\n",
      "7/7 [==============================] - 0s 1ms/step - loss: 1.4956 - accuracy: 0.5050\n",
      "Epoch 3/5\n",
      "7/7 [==============================] - 0s 1ms/step - loss: 1.4598 - accuracy: 0.5050\n",
      "Epoch 4/5\n",
      "7/7 [==============================] - 0s 2ms/step - loss: 1.2883 - accuracy: 0.4950\n",
      "Epoch 5/5\n",
      "7/7 [==============================] - 0s 2ms/step - loss: 1.1273 - accuracy: 0.5644\n",
      "4/4 [==============================] - 0s 2ms/step - loss: 1.3707 - accuracy: 0.4851\n",
      "Epoch 1/5\n",
      "7/7 [==============================] - 0s 2ms/step - loss: 4.2632 - accuracy: 0.4851\n",
      "Epoch 2/5\n",
      "7/7 [==============================] - 0s 2ms/step - loss: 1.8951 - accuracy: 0.4505\n",
      "Epoch 3/5\n",
      "7/7 [==============================] - 0s 2ms/step - loss: 0.7358 - accuracy: 0.6436\n",
      "Epoch 4/5\n",
      "7/7 [==============================] - 0s 2ms/step - loss: 0.6170 - accuracy: 0.6980\n",
      "Epoch 5/5\n",
      "7/7 [==============================] - 0s 1000us/step - loss: 0.7963 - accuracy: 0.6634\n",
      "4/4 [==============================] - 0s 4ms/step - loss: 0.7215 - accuracy: 0.6535\n",
      "Epoch 1/5\n",
      "7/7 [==============================] - 0s 2ms/step - loss: 7.7625 - accuracy: 0.4802\n",
      "Epoch 2/5\n",
      "7/7 [==============================] - 0s 1ms/step - loss: 2.6732 - accuracy: 0.5495\n",
      "Epoch 3/5\n",
      "7/7 [==============================] - 0s 1ms/step - loss: 1.6649 - accuracy: 0.5743\n",
      "Epoch 4/5\n",
      "7/7 [==============================] - 0s 1ms/step - loss: 1.0467 - accuracy: 0.6386\n",
      "Epoch 5/5\n",
      "7/7 [==============================] - 0s 1ms/step - loss: 0.9126 - accuracy: 0.6337\n",
      "4/4 [==============================] - 0s 2ms/step - loss: 0.8593 - accuracy: 0.7030\n",
      "Epoch 1/5\n",
      "7/7 [==============================] - 0s 1ms/step - loss: 6.5368 - accuracy: 0.5396\n",
      "Epoch 2/5\n",
      "7/7 [==============================] - 0s 1ms/step - loss: 3.2375 - accuracy: 0.4208\n",
      "Epoch 3/5\n",
      "7/7 [==============================] - 0s 1ms/step - loss: 1.5014 - accuracy: 0.4851\n",
      "Epoch 4/5\n",
      "7/7 [==============================] - 0s 1ms/step - loss: 1.0847 - accuracy: 0.4851\n",
      "Epoch 5/5\n",
      "7/7 [==============================] - 0s 1ms/step - loss: 0.8863 - accuracy: 0.5693\n",
      "4/4 [==============================] - 0s 4ms/step - loss: 0.8691 - accuracy: 0.6238\n",
      "Epoch 1/5\n",
      "10/10 [==============================] - 0s 1ms/step - loss: 1.9833 - accuracy: 0.5050\n",
      "Epoch 2/5\n",
      "10/10 [==============================] - 0s 1ms/step - loss: 0.6916 - accuracy: 0.6733\n",
      "Epoch 3/5\n",
      "10/10 [==============================] - 0s 1000us/step - loss: 0.6620 - accuracy: 0.6898\n",
      "Epoch 4/5\n",
      "10/10 [==============================] - 0s 1000us/step - loss: 0.5794 - accuracy: 0.7096\n",
      "Epoch 5/5\n",
      "10/10 [==============================] - 0s 1ms/step - loss: 0.5275 - accuracy: 0.7063\n"
     ]
    }
   ],
   "source": [
    "gs = GridSearchCV(estimator = model,\n",
    "                 param_grid = param_grid,\n",
    "                 n_jobs = 1,\n",
    "                 cv = 3)\n",
    "\n",
    "grid_result = gs.fit(X, Y, epochs = 5)"
   ]
  },
  {
   "cell_type": "code",
   "execution_count": 46,
   "metadata": {},
   "outputs": [
    {
     "name": "stdout",
     "output_type": "stream",
     "text": [
      "Best: 0.6600660085678101 using {'act_func': 'relu', 'first_layer_nodes': 500, 'n_layers': 10, 'opt': 'Adamax'}\n",
      "Means: 0.6171617110570272, Stdev: 0.04068918921340226 with: {'act_func': 'relu', 'first_layer_nodes': 500, 'n_layers': 10, 'opt': 'Ftrl'}\n",
      "Means: 0.6600660085678101, Stdev: 0.04736865105500342 with: {'act_func': 'relu', 'first_layer_nodes': 500, 'n_layers': 10, 'opt': 'Adamax'}\n",
      "Means: 0.5247524678707123, Stdev: 0.10876076372872899 with: {'act_func': 'selu', 'first_layer_nodes': 500, 'n_layers': 10, 'opt': 'Ftrl'}\n",
      "Means: 0.6600660085678101, Stdev: 0.03267161680487577 with: {'act_func': 'selu', 'first_layer_nodes': 500, 'n_layers': 10, 'opt': 'Adamax'}\n"
     ]
    }
   ],
   "source": [
    "print(f\"Best: {grid_result.best_score_} using {grid_result.best_params_}\")\n",
    "means = grid_result.cv_results_['mean_test_score']\n",
    "stds = grid_result.cv_results_['std_test_score']\n",
    "params = grid_result.cv_results_['params']\n",
    "for mean, stdev, param in zip(means, stds, params):\n",
    "    print(f\"Means: {mean}, Stdev: {stdev} with: {param}\")"
   ]
  },
  {
   "cell_type": "markdown",
   "metadata": {},
   "source": [
    "# GridSearch No. 6"
   ]
  },
  {
   "cell_type": "code",
   "execution_count": 47,
   "metadata": {},
   "outputs": [],
   "source": [
    "model = KerasClassifier(build_fn = create_model)"
   ]
  },
  {
   "cell_type": "code",
   "execution_count": 48,
   "metadata": {},
   "outputs": [],
   "source": [
    "\"\"\"\n",
    "Because create_model as written requires 4 arguments,param_grid has to \n",
    "include 4 arguments even though it only tests 2 arguments for the GridSearch.\n",
    "\"\"\"\n",
    "param_grid = {'n_layers': [10],\n",
    "              'first_layer_nodes': [500],\n",
    "              'act_func': ['tanh', 'selu'], \n",
    "              'opt': ['adam', 'Adamax']\n",
    "             }"
   ]
  },
  {
   "cell_type": "code",
   "execution_count": 49,
   "metadata": {},
   "outputs": [
    {
     "name": "stdout",
     "output_type": "stream",
     "text": [
      "Epoch 1/5\n",
      "7/7 [==============================] - 0s 1ms/step - loss: 0.7312 - accuracy: 0.5248\n",
      "Epoch 2/5\n",
      "7/7 [==============================] - 0s 1ms/step - loss: 0.6383 - accuracy: 0.6683\n",
      "Epoch 3/5\n",
      "7/7 [==============================] - 0s 1ms/step - loss: 0.5919 - accuracy: 0.6683\n",
      "Epoch 4/5\n",
      "7/7 [==============================] - 0s 1ms/step - loss: 0.5634 - accuracy: 0.7178\n",
      "Epoch 5/5\n",
      "7/7 [==============================] - 0s 2ms/step - loss: 0.5632 - accuracy: 0.7277\n",
      "4/4 [==============================] - 0s 4ms/step - loss: 0.5900 - accuracy: 0.7228\n",
      "Epoch 1/5\n",
      "7/7 [==============================] - 0s 2ms/step - loss: 0.8413 - accuracy: 0.5446\n",
      "Epoch 2/5\n",
      "7/7 [==============================] - 0s 1ms/step - loss: 0.5812 - accuracy: 0.6782\n",
      "Epoch 3/5\n",
      "7/7 [==============================] - 0s 1ms/step - loss: 0.5805 - accuracy: 0.6683\n",
      "Epoch 4/5\n",
      "7/7 [==============================] - 0s 1ms/step - loss: 0.5772 - accuracy: 0.6733\n",
      "Epoch 5/5\n",
      "7/7 [==============================] - 0s 1ms/step - loss: 0.5755 - accuracy: 0.6634\n",
      "4/4 [==============================] - 0s 1ms/step - loss: 0.6620 - accuracy: 0.6634\n",
      "Epoch 1/5\n",
      "7/7 [==============================] - 0s 1ms/step - loss: 0.7699 - accuracy: 0.5941\n",
      "Epoch 2/5\n",
      "7/7 [==============================] - 0s 1ms/step - loss: 0.6216 - accuracy: 0.6584\n",
      "Epoch 3/5\n",
      "7/7 [==============================] - 0s 2ms/step - loss: 0.6040 - accuracy: 0.6832\n",
      "Epoch 4/5\n",
      "7/7 [==============================] - 0s 1ms/step - loss: 0.5952 - accuracy: 0.7079\n",
      "Epoch 5/5\n",
      "7/7 [==============================] - 0s 1ms/step - loss: 0.5643 - accuracy: 0.7228\n",
      "4/4 [==============================] - 0s 5ms/step - loss: 0.5503 - accuracy: 0.7228\n",
      "Epoch 1/5\n",
      "7/7 [==============================] - 0s 1ms/step - loss: 0.7971 - accuracy: 0.4109\n",
      "Epoch 2/5\n",
      "7/7 [==============================] - 0s 1ms/step - loss: 0.6320 - accuracy: 0.6188\n",
      "Epoch 3/5\n",
      "7/7 [==============================] - 0s 1ms/step - loss: 0.6049 - accuracy: 0.6733\n",
      "Epoch 4/5\n",
      "7/7 [==============================] - 0s 1ms/step - loss: 0.5865 - accuracy: 0.6980\n",
      "Epoch 5/5\n",
      "7/7 [==============================] - 0s 1ms/step - loss: 0.5775 - accuracy: 0.6931\n",
      "4/4 [==============================] - 0s 3ms/step - loss: 0.5770 - accuracy: 0.6832\n",
      "Epoch 1/5\n",
      "7/7 [==============================] - 0s 1ms/step - loss: 0.6760 - accuracy: 0.5396\n",
      "Epoch 2/5\n",
      "7/7 [==============================] - 0s 2ms/step - loss: 0.5881 - accuracy: 0.6782\n",
      "Epoch 3/5\n",
      "7/7 [==============================] - 0s 1ms/step - loss: 0.5689 - accuracy: 0.6980\n",
      "Epoch 4/5\n",
      "7/7 [==============================] - 0s 1ms/step - loss: 0.5622 - accuracy: 0.6832\n",
      "Epoch 5/5\n",
      "7/7 [==============================] - 0s 2ms/step - loss: 0.5427 - accuracy: 0.7228\n",
      "4/4 [==============================] - 0s 1ms/step - loss: 0.6470 - accuracy: 0.6238\n",
      "Epoch 1/5\n",
      "7/7 [==============================] - 0s 1ms/step - loss: 0.7080 - accuracy: 0.5842\n",
      "Epoch 2/5\n",
      "7/7 [==============================] - 0s 2ms/step - loss: 0.6616 - accuracy: 0.6337\n",
      "Epoch 3/5\n",
      "7/7 [==============================] - 0s 1ms/step - loss: 0.6132 - accuracy: 0.6485\n",
      "Epoch 4/5\n",
      "7/7 [==============================] - 0s 1ms/step - loss: 0.5884 - accuracy: 0.6881\n",
      "Epoch 5/5\n",
      "7/7 [==============================] - 0s 2ms/step - loss: 0.5762 - accuracy: 0.6881\n",
      "4/4 [==============================] - 0s 1ms/step - loss: 0.5947 - accuracy: 0.6337\n",
      "Epoch 1/5\n",
      "7/7 [==============================] - 0s 1ms/step - loss: 2.1065 - accuracy: 0.5446\n",
      "Epoch 2/5\n",
      "7/7 [==============================] - 0s 2ms/step - loss: 1.2976 - accuracy: 0.5446\n",
      "Epoch 3/5\n",
      "7/7 [==============================] - 0s 2ms/step - loss: 0.9486 - accuracy: 0.6337\n",
      "Epoch 4/5\n",
      "7/7 [==============================] - 0s 1ms/step - loss: 0.9389 - accuracy: 0.6337\n",
      "Epoch 5/5\n",
      "7/7 [==============================] - 0s 2ms/step - loss: 0.7300 - accuracy: 0.7079\n",
      "4/4 [==============================] - 0s 1ms/step - loss: 0.6653 - accuracy: 0.7030\n",
      "Epoch 1/5\n",
      "7/7 [==============================] - 0s 1ms/step - loss: 3.7028 - accuracy: 0.5594\n",
      "Epoch 2/5\n",
      "7/7 [==============================] - 0s 2ms/step - loss: 1.5325 - accuracy: 0.6188\n",
      "Epoch 3/5\n",
      "7/7 [==============================] - 0s 1ms/step - loss: 0.8540 - accuracy: 0.6485\n",
      "Epoch 4/5\n",
      "7/7 [==============================] - 0s 2ms/step - loss: 0.8025 - accuracy: 0.6782\n",
      "Epoch 5/5\n",
      "7/7 [==============================] - 0s 2ms/step - loss: 0.5826 - accuracy: 0.7228\n",
      "4/4 [==============================] - 0s 999us/step - loss: 0.6823 - accuracy: 0.6832\n",
      "Epoch 1/5\n",
      "7/7 [==============================] - 0s 2ms/step - loss: 2.9838 - accuracy: 0.5248\n",
      "Epoch 2/5\n",
      "7/7 [==============================] - 0s 1ms/step - loss: 1.3687 - accuracy: 0.5050\n",
      "Epoch 3/5\n",
      "7/7 [==============================] - 0s 1ms/step - loss: 0.7685 - accuracy: 0.6634\n",
      "Epoch 4/5\n",
      "7/7 [==============================] - 0s 2ms/step - loss: 0.6503 - accuracy: 0.7079\n",
      "Epoch 5/5\n",
      "7/7 [==============================] - 0s 2ms/step - loss: 0.6802 - accuracy: 0.6683\n",
      "4/4 [==============================] - 0s 1ms/step - loss: 0.6026 - accuracy: 0.6535\n",
      "Epoch 1/5\n",
      "7/7 [==============================] - 0s 1ms/step - loss: 2.0300 - accuracy: 0.5545\n",
      "Epoch 2/5\n",
      "7/7 [==============================] - 0s 1ms/step - loss: 0.8633 - accuracy: 0.6089\n",
      "Epoch 3/5\n",
      "7/7 [==============================] - 0s 2ms/step - loss: 0.9667 - accuracy: 0.5941\n",
      "Epoch 4/5\n",
      "7/7 [==============================] - 0s 2ms/step - loss: 0.7019 - accuracy: 0.6881\n",
      "Epoch 5/5\n",
      "7/7 [==============================] - 0s 1ms/step - loss: 0.7451 - accuracy: 0.6733\n",
      "4/4 [==============================] - 0s 1ms/step - loss: 0.5989 - accuracy: 0.7030\n",
      "Epoch 1/5\n",
      "7/7 [==============================] - 0s 1ms/step - loss: 5.3730 - accuracy: 0.4802\n",
      "Epoch 2/5\n",
      "7/7 [==============================] - 0s 1ms/step - loss: 1.6361 - accuracy: 0.5743\n",
      "Epoch 3/5\n",
      "7/7 [==============================] - 0s 1ms/step - loss: 0.8979 - accuracy: 0.6832\n",
      "Epoch 4/5\n",
      "7/7 [==============================] - 0s 1ms/step - loss: 0.7760 - accuracy: 0.6485\n",
      "Epoch 5/5\n",
      "7/7 [==============================] - 0s 1ms/step - loss: 0.8309 - accuracy: 0.6584\n",
      "4/4 [==============================] - 0s 1ms/step - loss: 0.7665 - accuracy: 0.6733\n",
      "Epoch 1/5\n",
      "7/7 [==============================] - 0s 1ms/step - loss: 6.0209 - accuracy: 0.5000\n",
      "Epoch 2/5\n",
      "7/7 [==============================] - 0s 1ms/step - loss: 1.6196 - accuracy: 0.6188\n",
      "Epoch 3/5\n",
      "7/7 [==============================] - 0s 1ms/step - loss: 1.0707 - accuracy: 0.5891\n",
      "Epoch 4/5\n",
      "7/7 [==============================] - 0s 1ms/step - loss: 0.7898 - accuracy: 0.7178\n",
      "Epoch 5/5\n",
      "7/7 [==============================] - 0s 1ms/step - loss: 0.7644 - accuracy: 0.6634\n",
      "4/4 [==============================] - 0s 1ms/step - loss: 0.7542 - accuracy: 0.6436\n",
      "Epoch 1/5\n",
      "10/10 [==============================] - 0s 1ms/step - loss: 0.7029 - accuracy: 0.5413\n",
      "Epoch 2/5\n",
      "10/10 [==============================] - 0s 1ms/step - loss: 0.5766 - accuracy: 0.7063\n",
      "Epoch 3/5\n",
      "10/10 [==============================] - 0s 1ms/step - loss: 0.5677 - accuracy: 0.7030\n",
      "Epoch 4/5\n",
      "10/10 [==============================] - 0s 1ms/step - loss: 0.5475 - accuracy: 0.7327\n",
      "Epoch 5/5\n",
      "10/10 [==============================] - 0s 1ms/step - loss: 0.5432 - accuracy: 0.7195\n"
     ]
    }
   ],
   "source": [
    "gs = GridSearchCV(estimator = model,\n",
    "                 param_grid = param_grid,\n",
    "                 n_jobs = 1,\n",
    "                 cv = 3)\n",
    "\n",
    "grid_result = gs.fit(X, Y, epochs = 5)"
   ]
  },
  {
   "cell_type": "code",
   "execution_count": 50,
   "metadata": {},
   "outputs": [
    {
     "name": "stdout",
     "output_type": "stream",
     "text": [
      "Best: 0.7029703060785929 using {'act_func': 'tanh', 'first_layer_nodes': 500, 'n_layers': 10, 'opt': 'adam'}\n",
      "Means: 0.7029703060785929, Stdev: 0.02800424870987148 with: {'act_func': 'tanh', 'first_layer_nodes': 500, 'n_layers': 10, 'opt': 'adam'}\n",
      "Means: 0.646864672501882, Stdev: 0.025986816922028384 with: {'act_func': 'tanh', 'first_layer_nodes': 500, 'n_layers': 10, 'opt': 'Adamax'}\n",
      "Means: 0.6798679828643799, Stdev: 0.020344617168058445 with: {'act_func': 'selu', 'first_layer_nodes': 500, 'n_layers': 10, 'opt': 'adam'}\n",
      "Means: 0.6732673247655233, Stdev: 0.024252390796650362 with: {'act_func': 'selu', 'first_layer_nodes': 500, 'n_layers': 10, 'opt': 'Adamax'}\n"
     ]
    }
   ],
   "source": [
    "print(f\"Best: {grid_result.best_score_} using {grid_result.best_params_}\")\n",
    "means = grid_result.cv_results_['mean_test_score']\n",
    "stds = grid_result.cv_results_['std_test_score']\n",
    "params = grid_result.cv_results_['params']\n",
    "for mean, stdev, param in zip(means, stds, params):\n",
    "    print(f\"Means: {mean}, Stdev: {stdev} with: {param}\")"
   ]
  },
  {
   "cell_type": "markdown",
   "metadata": {},
   "source": [
    "# Conclusion:\n",
    "Higest Accuracy achieved is 0.7063 with the following tuned hyperparameters:\n",
    "- 5 Dense hidden layers;\n",
    "- 256 first layer neurons;\n",
    "- a 'tanh' (Hyperbolic tangent) activation function; and\n",
    "- an 'adam' optimizer"
   ]
  }
 ],
 "metadata": {
  "kernelspec": {
   "display_name": "Python 3 (ipykernel)",
   "language": "python",
   "name": "python3"
  },
  "language_info": {
   "codemirror_mode": {
    "name": "ipython",
    "version": 3
   },
   "file_extension": ".py",
   "mimetype": "text/x-python",
   "name": "python",
   "nbconvert_exporter": "python",
   "pygments_lexer": "ipython3",
   "version": "3.9.6"
  }
 },
 "nbformat": 4,
 "nbformat_minor": 4
}
